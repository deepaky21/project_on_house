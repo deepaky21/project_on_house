{
 "cells": [
  {
   "cell_type": "code",
   "execution_count": 32,
   "id": "4f8107b3",
   "metadata": {},
   "outputs": [],
   "source": [
    "import pandas as pd\n",
    "import numpy as np"
   ]
  },
  {
   "cell_type": "code",
   "execution_count": 33,
   "id": "681d06ca",
   "metadata": {},
   "outputs": [],
   "source": [
    "hr_train = pd.read_csv(\"C:/Users/h8man/Downloads/R_Projects/housing_train.csv\")"
   ]
  },
  {
   "cell_type": "code",
   "execution_count": 34,
   "id": "80e7b4b1",
   "metadata": {},
   "outputs": [],
   "source": [
    "hr_test = pd.read_csv(\"C:/Users/h8man/Downloads/R_Projects\\housing_test.csv\")"
   ]
  },
  {
   "cell_type": "code",
   "execution_count": 35,
   "id": "bdf662dc",
   "metadata": {},
   "outputs": [],
   "source": [
    "hr_train['data'] = 'train'\n",
    "hr_test['data'] = 'test'"
   ]
  },
  {
   "cell_type": "code",
   "execution_count": 36,
   "id": "99b9bb52",
   "metadata": {},
   "outputs": [],
   "source": [
    "hr_all = pd.concat([hr_train,hr_test],axis = 0)"
   ]
  },
  {
   "cell_type": "code",
   "execution_count": 37,
   "id": "9a9ca2e5",
   "metadata": {},
   "outputs": [
    {
     "data": {
      "text/html": [
       "<div>\n",
       "<style scoped>\n",
       "    .dataframe tbody tr th:only-of-type {\n",
       "        vertical-align: middle;\n",
       "    }\n",
       "\n",
       "    .dataframe tbody tr th {\n",
       "        vertical-align: top;\n",
       "    }\n",
       "\n",
       "    .dataframe thead th {\n",
       "        text-align: right;\n",
       "    }\n",
       "</style>\n",
       "<table border=\"1\" class=\"dataframe\">\n",
       "  <thead>\n",
       "    <tr style=\"text-align: right;\">\n",
       "      <th></th>\n",
       "      <th>Suburb</th>\n",
       "      <th>Address</th>\n",
       "      <th>Rooms</th>\n",
       "      <th>Type</th>\n",
       "      <th>Price</th>\n",
       "      <th>Method</th>\n",
       "      <th>SellerG</th>\n",
       "      <th>Distance</th>\n",
       "      <th>Postcode</th>\n",
       "      <th>Bedroom2</th>\n",
       "      <th>Bathroom</th>\n",
       "      <th>Car</th>\n",
       "      <th>Landsize</th>\n",
       "      <th>BuildingArea</th>\n",
       "      <th>YearBuilt</th>\n",
       "      <th>CouncilArea</th>\n",
       "      <th>data</th>\n",
       "    </tr>\n",
       "  </thead>\n",
       "  <tbody>\n",
       "    <tr>\n",
       "      <th>0</th>\n",
       "      <td>Brunswick</td>\n",
       "      <td>52 Evans St</td>\n",
       "      <td>3</td>\n",
       "      <td>h</td>\n",
       "      <td>1650000.0</td>\n",
       "      <td>S</td>\n",
       "      <td>Nelson</td>\n",
       "      <td>5.2</td>\n",
       "      <td>3056</td>\n",
       "      <td>3.0</td>\n",
       "      <td>1.0</td>\n",
       "      <td>2.0</td>\n",
       "      <td>495.0</td>\n",
       "      <td>141.0</td>\n",
       "      <td>1920.0</td>\n",
       "      <td>Moreland</td>\n",
       "      <td>train</td>\n",
       "    </tr>\n",
       "    <tr>\n",
       "      <th>1</th>\n",
       "      <td>Reservoir</td>\n",
       "      <td>85 Radford Rd</td>\n",
       "      <td>5</td>\n",
       "      <td>h</td>\n",
       "      <td>791000.0</td>\n",
       "      <td>S</td>\n",
       "      <td>Ray</td>\n",
       "      <td>11.2</td>\n",
       "      <td>3073</td>\n",
       "      <td>4.0</td>\n",
       "      <td>3.0</td>\n",
       "      <td>1.0</td>\n",
       "      <td>961.0</td>\n",
       "      <td>NaN</td>\n",
       "      <td>NaN</td>\n",
       "      <td>Darebin</td>\n",
       "      <td>train</td>\n",
       "    </tr>\n",
       "    <tr>\n",
       "      <th>2</th>\n",
       "      <td>Newport</td>\n",
       "      <td>99 Anderson St</td>\n",
       "      <td>3</td>\n",
       "      <td>h</td>\n",
       "      <td>785000.0</td>\n",
       "      <td>S</td>\n",
       "      <td>RT</td>\n",
       "      <td>8.4</td>\n",
       "      <td>3015</td>\n",
       "      <td>3.0</td>\n",
       "      <td>1.0</td>\n",
       "      <td>1.0</td>\n",
       "      <td>185.0</td>\n",
       "      <td>NaN</td>\n",
       "      <td>NaN</td>\n",
       "      <td>Hobsons Bay</td>\n",
       "      <td>train</td>\n",
       "    </tr>\n",
       "    <tr>\n",
       "      <th>3</th>\n",
       "      <td>Brighton East</td>\n",
       "      <td>4/377 South Rd</td>\n",
       "      <td>2</td>\n",
       "      <td>u</td>\n",
       "      <td>755000.0</td>\n",
       "      <td>SP</td>\n",
       "      <td>Buxton</td>\n",
       "      <td>10.7</td>\n",
       "      <td>3187</td>\n",
       "      <td>NaN</td>\n",
       "      <td>NaN</td>\n",
       "      <td>NaN</td>\n",
       "      <td>NaN</td>\n",
       "      <td>NaN</td>\n",
       "      <td>NaN</td>\n",
       "      <td>NaN</td>\n",
       "      <td>train</td>\n",
       "    </tr>\n",
       "    <tr>\n",
       "      <th>4</th>\n",
       "      <td>Hawthorn East</td>\n",
       "      <td>3 Jaques St</td>\n",
       "      <td>5</td>\n",
       "      <td>h</td>\n",
       "      <td>2500000.0</td>\n",
       "      <td>VB</td>\n",
       "      <td>RT</td>\n",
       "      <td>7.5</td>\n",
       "      <td>3123</td>\n",
       "      <td>5.0</td>\n",
       "      <td>3.0</td>\n",
       "      <td>3.0</td>\n",
       "      <td>757.0</td>\n",
       "      <td>240.0</td>\n",
       "      <td>1925.0</td>\n",
       "      <td>Boroondara</td>\n",
       "      <td>train</td>\n",
       "    </tr>\n",
       "    <tr>\n",
       "      <th>...</th>\n",
       "      <td>...</td>\n",
       "      <td>...</td>\n",
       "      <td>...</td>\n",
       "      <td>...</td>\n",
       "      <td>...</td>\n",
       "      <td>...</td>\n",
       "      <td>...</td>\n",
       "      <td>...</td>\n",
       "      <td>...</td>\n",
       "      <td>...</td>\n",
       "      <td>...</td>\n",
       "      <td>...</td>\n",
       "      <td>...</td>\n",
       "      <td>...</td>\n",
       "      <td>...</td>\n",
       "      <td>...</td>\n",
       "      <td>...</td>\n",
       "    </tr>\n",
       "    <tr>\n",
       "      <th>1880</th>\n",
       "      <td>Keilor Park</td>\n",
       "      <td>1 Latrose St</td>\n",
       "      <td>3</td>\n",
       "      <td>h</td>\n",
       "      <td>NaN</td>\n",
       "      <td>PI</td>\n",
       "      <td>Nelson</td>\n",
       "      <td>14.5</td>\n",
       "      <td>3042</td>\n",
       "      <td>NaN</td>\n",
       "      <td>NaN</td>\n",
       "      <td>NaN</td>\n",
       "      <td>NaN</td>\n",
       "      <td>NaN</td>\n",
       "      <td>NaN</td>\n",
       "      <td>NaN</td>\n",
       "      <td>test</td>\n",
       "    </tr>\n",
       "    <tr>\n",
       "      <th>1881</th>\n",
       "      <td>Keilor Park</td>\n",
       "      <td>35 Spence St</td>\n",
       "      <td>3</td>\n",
       "      <td>h</td>\n",
       "      <td>NaN</td>\n",
       "      <td>S</td>\n",
       "      <td>Nelson</td>\n",
       "      <td>14.5</td>\n",
       "      <td>3042</td>\n",
       "      <td>3.0</td>\n",
       "      <td>2.0</td>\n",
       "      <td>2.0</td>\n",
       "      <td>554.0</td>\n",
       "      <td>129.0</td>\n",
       "      <td>1980.0</td>\n",
       "      <td>Brimbank</td>\n",
       "      <td>test</td>\n",
       "    </tr>\n",
       "    <tr>\n",
       "      <th>1882</th>\n",
       "      <td>Gardenvale</td>\n",
       "      <td>66A Gardenvale Rd</td>\n",
       "      <td>3</td>\n",
       "      <td>h</td>\n",
       "      <td>NaN</td>\n",
       "      <td>PI</td>\n",
       "      <td>Nick</td>\n",
       "      <td>9.8</td>\n",
       "      <td>3185</td>\n",
       "      <td>3.0</td>\n",
       "      <td>2.0</td>\n",
       "      <td>2.0</td>\n",
       "      <td>236.0</td>\n",
       "      <td>193.0</td>\n",
       "      <td>2004.0</td>\n",
       "      <td>Glen Eira</td>\n",
       "      <td>test</td>\n",
       "    </tr>\n",
       "    <tr>\n",
       "      <th>1883</th>\n",
       "      <td>Gardenvale</td>\n",
       "      <td>2/32 Gardenia Rd</td>\n",
       "      <td>2</td>\n",
       "      <td>u</td>\n",
       "      <td>NaN</td>\n",
       "      <td>SP</td>\n",
       "      <td>Biggin</td>\n",
       "      <td>9.8</td>\n",
       "      <td>3185</td>\n",
       "      <td>2.0</td>\n",
       "      <td>1.0</td>\n",
       "      <td>1.0</td>\n",
       "      <td>0.0</td>\n",
       "      <td>65.0</td>\n",
       "      <td>1970.0</td>\n",
       "      <td>Glen Eira</td>\n",
       "      <td>test</td>\n",
       "    </tr>\n",
       "    <tr>\n",
       "      <th>1884</th>\n",
       "      <td>Princes Hill</td>\n",
       "      <td>76 Arnold St</td>\n",
       "      <td>3</td>\n",
       "      <td>h</td>\n",
       "      <td>NaN</td>\n",
       "      <td>VB</td>\n",
       "      <td>Collins</td>\n",
       "      <td>3.7</td>\n",
       "      <td>3054</td>\n",
       "      <td>3.0</td>\n",
       "      <td>1.0</td>\n",
       "      <td>2.0</td>\n",
       "      <td>341.0</td>\n",
       "      <td>NaN</td>\n",
       "      <td>NaN</td>\n",
       "      <td>Yarra</td>\n",
       "      <td>test</td>\n",
       "    </tr>\n",
       "  </tbody>\n",
       "</table>\n",
       "<p>9421 rows × 17 columns</p>\n",
       "</div>"
      ],
      "text/plain": [
       "             Suburb            Address  Rooms Type      Price Method  SellerG  \\\n",
       "0         Brunswick        52 Evans St      3    h  1650000.0      S   Nelson   \n",
       "1         Reservoir      85 Radford Rd      5    h   791000.0      S      Ray   \n",
       "2           Newport     99 Anderson St      3    h   785000.0      S       RT   \n",
       "3     Brighton East     4/377 South Rd      2    u   755000.0     SP   Buxton   \n",
       "4     Hawthorn East        3 Jaques St      5    h  2500000.0     VB       RT   \n",
       "...             ...                ...    ...  ...        ...    ...      ...   \n",
       "1880    Keilor Park       1 Latrose St      3    h        NaN     PI   Nelson   \n",
       "1881    Keilor Park       35 Spence St      3    h        NaN      S   Nelson   \n",
       "1882     Gardenvale  66A Gardenvale Rd      3    h        NaN     PI     Nick   \n",
       "1883     Gardenvale   2/32 Gardenia Rd      2    u        NaN     SP   Biggin   \n",
       "1884   Princes Hill       76 Arnold St      3    h        NaN     VB  Collins   \n",
       "\n",
       "      Distance  Postcode  Bedroom2  Bathroom  Car  Landsize  BuildingArea  \\\n",
       "0          5.2      3056       3.0       1.0  2.0     495.0         141.0   \n",
       "1         11.2      3073       4.0       3.0  1.0     961.0           NaN   \n",
       "2          8.4      3015       3.0       1.0  1.0     185.0           NaN   \n",
       "3         10.7      3187       NaN       NaN  NaN       NaN           NaN   \n",
       "4          7.5      3123       5.0       3.0  3.0     757.0         240.0   \n",
       "...        ...       ...       ...       ...  ...       ...           ...   \n",
       "1880      14.5      3042       NaN       NaN  NaN       NaN           NaN   \n",
       "1881      14.5      3042       3.0       2.0  2.0     554.0         129.0   \n",
       "1882       9.8      3185       3.0       2.0  2.0     236.0         193.0   \n",
       "1883       9.8      3185       2.0       1.0  1.0       0.0          65.0   \n",
       "1884       3.7      3054       3.0       1.0  2.0     341.0           NaN   \n",
       "\n",
       "      YearBuilt  CouncilArea   data  \n",
       "0        1920.0     Moreland  train  \n",
       "1           NaN      Darebin  train  \n",
       "2           NaN  Hobsons Bay  train  \n",
       "3           NaN          NaN  train  \n",
       "4        1925.0   Boroondara  train  \n",
       "...         ...          ...    ...  \n",
       "1880        NaN          NaN   test  \n",
       "1881     1980.0     Brimbank   test  \n",
       "1882     2004.0    Glen Eira   test  \n",
       "1883     1970.0    Glen Eira   test  \n",
       "1884        NaN        Yarra   test  \n",
       "\n",
       "[9421 rows x 17 columns]"
      ]
     },
     "execution_count": 37,
     "metadata": {},
     "output_type": "execute_result"
    }
   ],
   "source": [
    "hr_all"
   ]
  },
  {
   "cell_type": "code",
   "execution_count": 38,
   "id": "e13f6207",
   "metadata": {},
   "outputs": [
    {
     "data": {
      "text/plain": [
       "Suburb             0\n",
       "Address            0\n",
       "Rooms              0\n",
       "Type               0\n",
       "Price           1885\n",
       "Method             0\n",
       "SellerG            0\n",
       "Distance           0\n",
       "Postcode           0\n",
       "Bedroom2        1978\n",
       "Bathroom        1978\n",
       "Car             1978\n",
       "Landsize        1985\n",
       "BuildingArea    5269\n",
       "YearBuilt       4660\n",
       "CouncilArea     1985\n",
       "data               0\n",
       "dtype: int64"
      ]
     },
     "execution_count": 38,
     "metadata": {},
     "output_type": "execute_result"
    }
   ],
   "source": [
    "hr_all.isnull().sum()"
   ]
  },
  {
   "cell_type": "code",
   "execution_count": 39,
   "id": "4cf9ad0b",
   "metadata": {},
   "outputs": [
    {
     "data": {
      "text/plain": [
       "(7536, 17)"
      ]
     },
     "execution_count": 39,
     "metadata": {},
     "output_type": "execute_result"
    }
   ],
   "source": [
    "hr_train.shape"
   ]
  },
  {
   "cell_type": "code",
   "execution_count": 40,
   "id": "34960533",
   "metadata": {},
   "outputs": [
    {
     "data": {
      "text/plain": [
       "(1885, 16)"
      ]
     },
     "execution_count": 40,
     "metadata": {},
     "output_type": "execute_result"
    }
   ],
   "source": [
    "hr_test.shape"
   ]
  },
  {
   "cell_type": "code",
   "execution_count": 41,
   "id": "0eb3893d",
   "metadata": {},
   "outputs": [
    {
     "data": {
      "text/plain": [
       "(9421, 17)"
      ]
     },
     "execution_count": 41,
     "metadata": {},
     "output_type": "execute_result"
    }
   ],
   "source": [
    "hr_all.shape"
   ]
  },
  {
   "cell_type": "code",
   "execution_count": 42,
   "id": "fc738551",
   "metadata": {},
   "outputs": [
    {
     "data": {
      "text/html": [
       "<div>\n",
       "<style scoped>\n",
       "    .dataframe tbody tr th:only-of-type {\n",
       "        vertical-align: middle;\n",
       "    }\n",
       "\n",
       "    .dataframe tbody tr th {\n",
       "        vertical-align: top;\n",
       "    }\n",
       "\n",
       "    .dataframe thead th {\n",
       "        text-align: right;\n",
       "    }\n",
       "</style>\n",
       "<table border=\"1\" class=\"dataframe\">\n",
       "  <thead>\n",
       "    <tr style=\"text-align: right;\">\n",
       "      <th></th>\n",
       "      <th>Suburb</th>\n",
       "      <th>Address</th>\n",
       "      <th>Type</th>\n",
       "      <th>Method</th>\n",
       "      <th>SellerG</th>\n",
       "      <th>CouncilArea</th>\n",
       "      <th>data</th>\n",
       "    </tr>\n",
       "  </thead>\n",
       "  <tbody>\n",
       "    <tr>\n",
       "      <th>0</th>\n",
       "      <td>Brunswick</td>\n",
       "      <td>52 Evans St</td>\n",
       "      <td>h</td>\n",
       "      <td>S</td>\n",
       "      <td>Nelson</td>\n",
       "      <td>Moreland</td>\n",
       "      <td>train</td>\n",
       "    </tr>\n",
       "    <tr>\n",
       "      <th>1</th>\n",
       "      <td>Reservoir</td>\n",
       "      <td>85 Radford Rd</td>\n",
       "      <td>h</td>\n",
       "      <td>S</td>\n",
       "      <td>Ray</td>\n",
       "      <td>Darebin</td>\n",
       "      <td>train</td>\n",
       "    </tr>\n",
       "    <tr>\n",
       "      <th>2</th>\n",
       "      <td>Newport</td>\n",
       "      <td>99 Anderson St</td>\n",
       "      <td>h</td>\n",
       "      <td>S</td>\n",
       "      <td>RT</td>\n",
       "      <td>Hobsons Bay</td>\n",
       "      <td>train</td>\n",
       "    </tr>\n",
       "    <tr>\n",
       "      <th>3</th>\n",
       "      <td>Brighton East</td>\n",
       "      <td>4/377 South Rd</td>\n",
       "      <td>u</td>\n",
       "      <td>SP</td>\n",
       "      <td>Buxton</td>\n",
       "      <td>NaN</td>\n",
       "      <td>train</td>\n",
       "    </tr>\n",
       "    <tr>\n",
       "      <th>4</th>\n",
       "      <td>Hawthorn East</td>\n",
       "      <td>3 Jaques St</td>\n",
       "      <td>h</td>\n",
       "      <td>VB</td>\n",
       "      <td>RT</td>\n",
       "      <td>Boroondara</td>\n",
       "      <td>train</td>\n",
       "    </tr>\n",
       "    <tr>\n",
       "      <th>...</th>\n",
       "      <td>...</td>\n",
       "      <td>...</td>\n",
       "      <td>...</td>\n",
       "      <td>...</td>\n",
       "      <td>...</td>\n",
       "      <td>...</td>\n",
       "      <td>...</td>\n",
       "    </tr>\n",
       "    <tr>\n",
       "      <th>7531</th>\n",
       "      <td>Footscray</td>\n",
       "      <td>202/51 Gordon St</td>\n",
       "      <td>u</td>\n",
       "      <td>PI</td>\n",
       "      <td>Burnham</td>\n",
       "      <td>Maribyrnong</td>\n",
       "      <td>train</td>\n",
       "    </tr>\n",
       "    <tr>\n",
       "      <th>7532</th>\n",
       "      <td>Oak Park</td>\n",
       "      <td>63 Vincent St</td>\n",
       "      <td>h</td>\n",
       "      <td>SP</td>\n",
       "      <td>Nelson</td>\n",
       "      <td>Moreland</td>\n",
       "      <td>train</td>\n",
       "    </tr>\n",
       "    <tr>\n",
       "      <th>7533</th>\n",
       "      <td>Camberwell</td>\n",
       "      <td>5 Gowar Av</td>\n",
       "      <td>h</td>\n",
       "      <td>PI</td>\n",
       "      <td>Jellis</td>\n",
       "      <td>NaN</td>\n",
       "      <td>train</td>\n",
       "    </tr>\n",
       "    <tr>\n",
       "      <th>7534</th>\n",
       "      <td>Richmond</td>\n",
       "      <td>29a Abinger St</td>\n",
       "      <td>h</td>\n",
       "      <td>S</td>\n",
       "      <td>hockingstuart</td>\n",
       "      <td>Yarra</td>\n",
       "      <td>train</td>\n",
       "    </tr>\n",
       "    <tr>\n",
       "      <th>7535</th>\n",
       "      <td>Brunswick West</td>\n",
       "      <td>12/82 Hopetoun Av</td>\n",
       "      <td>u</td>\n",
       "      <td>VB</td>\n",
       "      <td>Nelson</td>\n",
       "      <td>NaN</td>\n",
       "      <td>train</td>\n",
       "    </tr>\n",
       "  </tbody>\n",
       "</table>\n",
       "<p>7536 rows × 7 columns</p>\n",
       "</div>"
      ],
      "text/plain": [
       "              Suburb            Address Type Method        SellerG  \\\n",
       "0          Brunswick        52 Evans St    h      S         Nelson   \n",
       "1          Reservoir      85 Radford Rd    h      S            Ray   \n",
       "2            Newport     99 Anderson St    h      S             RT   \n",
       "3      Brighton East     4/377 South Rd    u     SP         Buxton   \n",
       "4      Hawthorn East        3 Jaques St    h     VB             RT   \n",
       "...              ...                ...  ...    ...            ...   \n",
       "7531       Footscray   202/51 Gordon St    u     PI        Burnham   \n",
       "7532        Oak Park      63 Vincent St    h     SP         Nelson   \n",
       "7533      Camberwell         5 Gowar Av    h     PI         Jellis   \n",
       "7534        Richmond     29a Abinger St    h      S  hockingstuart   \n",
       "7535  Brunswick West  12/82 Hopetoun Av    u     VB         Nelson   \n",
       "\n",
       "      CouncilArea   data  \n",
       "0        Moreland  train  \n",
       "1         Darebin  train  \n",
       "2     Hobsons Bay  train  \n",
       "3             NaN  train  \n",
       "4      Boroondara  train  \n",
       "...           ...    ...  \n",
       "7531  Maribyrnong  train  \n",
       "7532     Moreland  train  \n",
       "7533          NaN  train  \n",
       "7534        Yarra  train  \n",
       "7535          NaN  train  \n",
       "\n",
       "[7536 rows x 7 columns]"
      ]
     },
     "execution_count": 42,
     "metadata": {},
     "output_type": "execute_result"
    }
   ],
   "source": [
    "hr_train.select_dtypes(object)"
   ]
  },
  {
   "cell_type": "code",
   "execution_count": 43,
   "id": "ac2dca5f",
   "metadata": {},
   "outputs": [],
   "source": [
    "del hr_train['Address']"
   ]
  },
  {
   "cell_type": "code",
   "execution_count": 44,
   "id": "818ade4c",
   "metadata": {},
   "outputs": [
    {
     "data": {
      "text/html": [
       "<div>\n",
       "<style scoped>\n",
       "    .dataframe tbody tr th:only-of-type {\n",
       "        vertical-align: middle;\n",
       "    }\n",
       "\n",
       "    .dataframe tbody tr th {\n",
       "        vertical-align: top;\n",
       "    }\n",
       "\n",
       "    .dataframe thead th {\n",
       "        text-align: right;\n",
       "    }\n",
       "</style>\n",
       "<table border=\"1\" class=\"dataframe\">\n",
       "  <thead>\n",
       "    <tr style=\"text-align: right;\">\n",
       "      <th></th>\n",
       "      <th>Rooms</th>\n",
       "      <th>Price</th>\n",
       "      <th>Distance</th>\n",
       "      <th>Postcode</th>\n",
       "      <th>Bedroom2</th>\n",
       "      <th>Bathroom</th>\n",
       "      <th>Car</th>\n",
       "      <th>Landsize</th>\n",
       "      <th>BuildingArea</th>\n",
       "      <th>YearBuilt</th>\n",
       "    </tr>\n",
       "  </thead>\n",
       "  <tbody>\n",
       "    <tr>\n",
       "      <th>0</th>\n",
       "      <td>3</td>\n",
       "      <td>1650000</td>\n",
       "      <td>5.2</td>\n",
       "      <td>3056</td>\n",
       "      <td>3.0</td>\n",
       "      <td>1.0</td>\n",
       "      <td>2.0</td>\n",
       "      <td>495.0</td>\n",
       "      <td>141.0</td>\n",
       "      <td>1920.0</td>\n",
       "    </tr>\n",
       "    <tr>\n",
       "      <th>1</th>\n",
       "      <td>5</td>\n",
       "      <td>791000</td>\n",
       "      <td>11.2</td>\n",
       "      <td>3073</td>\n",
       "      <td>4.0</td>\n",
       "      <td>3.0</td>\n",
       "      <td>1.0</td>\n",
       "      <td>961.0</td>\n",
       "      <td>NaN</td>\n",
       "      <td>NaN</td>\n",
       "    </tr>\n",
       "    <tr>\n",
       "      <th>2</th>\n",
       "      <td>3</td>\n",
       "      <td>785000</td>\n",
       "      <td>8.4</td>\n",
       "      <td>3015</td>\n",
       "      <td>3.0</td>\n",
       "      <td>1.0</td>\n",
       "      <td>1.0</td>\n",
       "      <td>185.0</td>\n",
       "      <td>NaN</td>\n",
       "      <td>NaN</td>\n",
       "    </tr>\n",
       "    <tr>\n",
       "      <th>3</th>\n",
       "      <td>2</td>\n",
       "      <td>755000</td>\n",
       "      <td>10.7</td>\n",
       "      <td>3187</td>\n",
       "      <td>NaN</td>\n",
       "      <td>NaN</td>\n",
       "      <td>NaN</td>\n",
       "      <td>NaN</td>\n",
       "      <td>NaN</td>\n",
       "      <td>NaN</td>\n",
       "    </tr>\n",
       "    <tr>\n",
       "      <th>4</th>\n",
       "      <td>5</td>\n",
       "      <td>2500000</td>\n",
       "      <td>7.5</td>\n",
       "      <td>3123</td>\n",
       "      <td>5.0</td>\n",
       "      <td>3.0</td>\n",
       "      <td>3.0</td>\n",
       "      <td>757.0</td>\n",
       "      <td>240.0</td>\n",
       "      <td>1925.0</td>\n",
       "    </tr>\n",
       "    <tr>\n",
       "      <th>...</th>\n",
       "      <td>...</td>\n",
       "      <td>...</td>\n",
       "      <td>...</td>\n",
       "      <td>...</td>\n",
       "      <td>...</td>\n",
       "      <td>...</td>\n",
       "      <td>...</td>\n",
       "      <td>...</td>\n",
       "      <td>...</td>\n",
       "      <td>...</td>\n",
       "    </tr>\n",
       "    <tr>\n",
       "      <th>7531</th>\n",
       "      <td>1</td>\n",
       "      <td>85000</td>\n",
       "      <td>6.4</td>\n",
       "      <td>3011</td>\n",
       "      <td>1.0</td>\n",
       "      <td>1.0</td>\n",
       "      <td>0.0</td>\n",
       "      <td>0.0</td>\n",
       "      <td>NaN</td>\n",
       "      <td>2007.0</td>\n",
       "    </tr>\n",
       "    <tr>\n",
       "      <th>7532</th>\n",
       "      <td>3</td>\n",
       "      <td>900000</td>\n",
       "      <td>11.5</td>\n",
       "      <td>3046</td>\n",
       "      <td>3.0</td>\n",
       "      <td>1.0</td>\n",
       "      <td>1.0</td>\n",
       "      <td>705.0</td>\n",
       "      <td>NaN</td>\n",
       "      <td>NaN</td>\n",
       "    </tr>\n",
       "    <tr>\n",
       "      <th>7533</th>\n",
       "      <td>4</td>\n",
       "      <td>2285000</td>\n",
       "      <td>7.8</td>\n",
       "      <td>3124</td>\n",
       "      <td>NaN</td>\n",
       "      <td>NaN</td>\n",
       "      <td>NaN</td>\n",
       "      <td>NaN</td>\n",
       "      <td>NaN</td>\n",
       "      <td>NaN</td>\n",
       "    </tr>\n",
       "    <tr>\n",
       "      <th>7534</th>\n",
       "      <td>3</td>\n",
       "      <td>1185000</td>\n",
       "      <td>2.6</td>\n",
       "      <td>3121</td>\n",
       "      <td>2.0</td>\n",
       "      <td>2.0</td>\n",
       "      <td>1.0</td>\n",
       "      <td>135.0</td>\n",
       "      <td>NaN</td>\n",
       "      <td>NaN</td>\n",
       "    </tr>\n",
       "    <tr>\n",
       "      <th>7535</th>\n",
       "      <td>2</td>\n",
       "      <td>400000</td>\n",
       "      <td>5.9</td>\n",
       "      <td>3055</td>\n",
       "      <td>NaN</td>\n",
       "      <td>NaN</td>\n",
       "      <td>NaN</td>\n",
       "      <td>NaN</td>\n",
       "      <td>NaN</td>\n",
       "      <td>NaN</td>\n",
       "    </tr>\n",
       "  </tbody>\n",
       "</table>\n",
       "<p>7536 rows × 10 columns</p>\n",
       "</div>"
      ],
      "text/plain": [
       "      Rooms    Price  Distance  Postcode  Bedroom2  Bathroom  Car  Landsize  \\\n",
       "0         3  1650000       5.2      3056       3.0       1.0  2.0     495.0   \n",
       "1         5   791000      11.2      3073       4.0       3.0  1.0     961.0   \n",
       "2         3   785000       8.4      3015       3.0       1.0  1.0     185.0   \n",
       "3         2   755000      10.7      3187       NaN       NaN  NaN       NaN   \n",
       "4         5  2500000       7.5      3123       5.0       3.0  3.0     757.0   \n",
       "...     ...      ...       ...       ...       ...       ...  ...       ...   \n",
       "7531      1    85000       6.4      3011       1.0       1.0  0.0       0.0   \n",
       "7532      3   900000      11.5      3046       3.0       1.0  1.0     705.0   \n",
       "7533      4  2285000       7.8      3124       NaN       NaN  NaN       NaN   \n",
       "7534      3  1185000       2.6      3121       2.0       2.0  1.0     135.0   \n",
       "7535      2   400000       5.9      3055       NaN       NaN  NaN       NaN   \n",
       "\n",
       "      BuildingArea  YearBuilt  \n",
       "0            141.0     1920.0  \n",
       "1              NaN        NaN  \n",
       "2              NaN        NaN  \n",
       "3              NaN        NaN  \n",
       "4            240.0     1925.0  \n",
       "...            ...        ...  \n",
       "7531           NaN     2007.0  \n",
       "7532           NaN        NaN  \n",
       "7533           NaN        NaN  \n",
       "7534           NaN        NaN  \n",
       "7535           NaN        NaN  \n",
       "\n",
       "[7536 rows x 10 columns]"
      ]
     },
     "execution_count": 44,
     "metadata": {},
     "output_type": "execute_result"
    }
   ],
   "source": [
    "hr_train.select_dtypes(exclude = 'object')"
   ]
  },
  {
   "cell_type": "code",
   "execution_count": 45,
   "id": "72d91b2a",
   "metadata": {},
   "outputs": [],
   "source": [
    "hr_train['Postcode'] = hr_train['Postcode'].astype(object)"
   ]
  },
  {
   "cell_type": "code",
   "execution_count": 46,
   "id": "fbd8b031",
   "metadata": {},
   "outputs": [],
   "source": [
    "hr_train['YearBuilt'] = hr_train['YearBuilt'].astype(object)"
   ]
  },
  {
   "cell_type": "code",
   "execution_count": 47,
   "id": "0c3e3c71",
   "metadata": {},
   "outputs": [
    {
     "data": {
      "text/html": [
       "<div>\n",
       "<style scoped>\n",
       "    .dataframe tbody tr th:only-of-type {\n",
       "        vertical-align: middle;\n",
       "    }\n",
       "\n",
       "    .dataframe tbody tr th {\n",
       "        vertical-align: top;\n",
       "    }\n",
       "\n",
       "    .dataframe thead th {\n",
       "        text-align: right;\n",
       "    }\n",
       "</style>\n",
       "<table border=\"1\" class=\"dataframe\">\n",
       "  <thead>\n",
       "    <tr style=\"text-align: right;\">\n",
       "      <th></th>\n",
       "      <th>Suburb</th>\n",
       "      <th>Type</th>\n",
       "      <th>Method</th>\n",
       "      <th>SellerG</th>\n",
       "      <th>Postcode</th>\n",
       "      <th>YearBuilt</th>\n",
       "      <th>CouncilArea</th>\n",
       "      <th>data</th>\n",
       "    </tr>\n",
       "  </thead>\n",
       "  <tbody>\n",
       "    <tr>\n",
       "      <th>0</th>\n",
       "      <td>Brunswick</td>\n",
       "      <td>h</td>\n",
       "      <td>S</td>\n",
       "      <td>Nelson</td>\n",
       "      <td>3056</td>\n",
       "      <td>1920.0</td>\n",
       "      <td>Moreland</td>\n",
       "      <td>train</td>\n",
       "    </tr>\n",
       "    <tr>\n",
       "      <th>1</th>\n",
       "      <td>Reservoir</td>\n",
       "      <td>h</td>\n",
       "      <td>S</td>\n",
       "      <td>Ray</td>\n",
       "      <td>3073</td>\n",
       "      <td>NaN</td>\n",
       "      <td>Darebin</td>\n",
       "      <td>train</td>\n",
       "    </tr>\n",
       "    <tr>\n",
       "      <th>2</th>\n",
       "      <td>Newport</td>\n",
       "      <td>h</td>\n",
       "      <td>S</td>\n",
       "      <td>RT</td>\n",
       "      <td>3015</td>\n",
       "      <td>NaN</td>\n",
       "      <td>Hobsons Bay</td>\n",
       "      <td>train</td>\n",
       "    </tr>\n",
       "    <tr>\n",
       "      <th>3</th>\n",
       "      <td>Brighton East</td>\n",
       "      <td>u</td>\n",
       "      <td>SP</td>\n",
       "      <td>Buxton</td>\n",
       "      <td>3187</td>\n",
       "      <td>NaN</td>\n",
       "      <td>NaN</td>\n",
       "      <td>train</td>\n",
       "    </tr>\n",
       "    <tr>\n",
       "      <th>4</th>\n",
       "      <td>Hawthorn East</td>\n",
       "      <td>h</td>\n",
       "      <td>VB</td>\n",
       "      <td>RT</td>\n",
       "      <td>3123</td>\n",
       "      <td>1925.0</td>\n",
       "      <td>Boroondara</td>\n",
       "      <td>train</td>\n",
       "    </tr>\n",
       "    <tr>\n",
       "      <th>...</th>\n",
       "      <td>...</td>\n",
       "      <td>...</td>\n",
       "      <td>...</td>\n",
       "      <td>...</td>\n",
       "      <td>...</td>\n",
       "      <td>...</td>\n",
       "      <td>...</td>\n",
       "      <td>...</td>\n",
       "    </tr>\n",
       "    <tr>\n",
       "      <th>7531</th>\n",
       "      <td>Footscray</td>\n",
       "      <td>u</td>\n",
       "      <td>PI</td>\n",
       "      <td>Burnham</td>\n",
       "      <td>3011</td>\n",
       "      <td>2007.0</td>\n",
       "      <td>Maribyrnong</td>\n",
       "      <td>train</td>\n",
       "    </tr>\n",
       "    <tr>\n",
       "      <th>7532</th>\n",
       "      <td>Oak Park</td>\n",
       "      <td>h</td>\n",
       "      <td>SP</td>\n",
       "      <td>Nelson</td>\n",
       "      <td>3046</td>\n",
       "      <td>NaN</td>\n",
       "      <td>Moreland</td>\n",
       "      <td>train</td>\n",
       "    </tr>\n",
       "    <tr>\n",
       "      <th>7533</th>\n",
       "      <td>Camberwell</td>\n",
       "      <td>h</td>\n",
       "      <td>PI</td>\n",
       "      <td>Jellis</td>\n",
       "      <td>3124</td>\n",
       "      <td>NaN</td>\n",
       "      <td>NaN</td>\n",
       "      <td>train</td>\n",
       "    </tr>\n",
       "    <tr>\n",
       "      <th>7534</th>\n",
       "      <td>Richmond</td>\n",
       "      <td>h</td>\n",
       "      <td>S</td>\n",
       "      <td>hockingstuart</td>\n",
       "      <td>3121</td>\n",
       "      <td>NaN</td>\n",
       "      <td>Yarra</td>\n",
       "      <td>train</td>\n",
       "    </tr>\n",
       "    <tr>\n",
       "      <th>7535</th>\n",
       "      <td>Brunswick West</td>\n",
       "      <td>u</td>\n",
       "      <td>VB</td>\n",
       "      <td>Nelson</td>\n",
       "      <td>3055</td>\n",
       "      <td>NaN</td>\n",
       "      <td>NaN</td>\n",
       "      <td>train</td>\n",
       "    </tr>\n",
       "  </tbody>\n",
       "</table>\n",
       "<p>7536 rows × 8 columns</p>\n",
       "</div>"
      ],
      "text/plain": [
       "              Suburb Type Method        SellerG Postcode YearBuilt  \\\n",
       "0          Brunswick    h      S         Nelson     3056    1920.0   \n",
       "1          Reservoir    h      S            Ray     3073       NaN   \n",
       "2            Newport    h      S             RT     3015       NaN   \n",
       "3      Brighton East    u     SP         Buxton     3187       NaN   \n",
       "4      Hawthorn East    h     VB             RT     3123    1925.0   \n",
       "...              ...  ...    ...            ...      ...       ...   \n",
       "7531       Footscray    u     PI        Burnham     3011    2007.0   \n",
       "7532        Oak Park    h     SP         Nelson     3046       NaN   \n",
       "7533      Camberwell    h     PI         Jellis     3124       NaN   \n",
       "7534        Richmond    h      S  hockingstuart     3121       NaN   \n",
       "7535  Brunswick West    u     VB         Nelson     3055       NaN   \n",
       "\n",
       "      CouncilArea   data  \n",
       "0        Moreland  train  \n",
       "1         Darebin  train  \n",
       "2     Hobsons Bay  train  \n",
       "3             NaN  train  \n",
       "4      Boroondara  train  \n",
       "...           ...    ...  \n",
       "7531  Maribyrnong  train  \n",
       "7532     Moreland  train  \n",
       "7533          NaN  train  \n",
       "7534        Yarra  train  \n",
       "7535          NaN  train  \n",
       "\n",
       "[7536 rows x 8 columns]"
      ]
     },
     "execution_count": 47,
     "metadata": {},
     "output_type": "execute_result"
    }
   ],
   "source": [
    "hr_train.select_dtypes(object)"
   ]
  },
  {
   "cell_type": "code",
   "execution_count": 48,
   "id": "b29a74e4",
   "metadata": {},
   "outputs": [
    {
     "data": {
      "text/plain": [
       "0    1970.0\n",
       "dtype: object"
      ]
     },
     "execution_count": 48,
     "metadata": {},
     "output_type": "execute_result"
    }
   ],
   "source": [
    "hr_train['YearBuilt'].mode()"
   ]
  },
  {
   "cell_type": "code",
   "execution_count": 49,
   "id": "63f7f9e8",
   "metadata": {},
   "outputs": [],
   "source": [
    "hr_all['YearBuilt'] = hr_all['YearBuilt'].fillna('1970')"
   ]
  },
  {
   "cell_type": "code",
   "execution_count": 50,
   "id": "49846f0a",
   "metadata": {},
   "outputs": [
    {
     "data": {
      "text/plain": [
       "Suburb             0\n",
       "Address            0\n",
       "Rooms              0\n",
       "Type               0\n",
       "Price           1885\n",
       "Method             0\n",
       "SellerG            0\n",
       "Distance           0\n",
       "Postcode           0\n",
       "Bedroom2        1978\n",
       "Bathroom        1978\n",
       "Car             1978\n",
       "Landsize        1985\n",
       "BuildingArea    5269\n",
       "YearBuilt          0\n",
       "CouncilArea     1985\n",
       "data               0\n",
       "dtype: int64"
      ]
     },
     "execution_count": 50,
     "metadata": {},
     "output_type": "execute_result"
    }
   ],
   "source": [
    "hr_all.isnull().sum()"
   ]
  },
  {
   "cell_type": "code",
   "execution_count": 51,
   "id": "3c52b7d9",
   "metadata": {},
   "outputs": [],
   "source": [
    "del hr_all['Address']"
   ]
  },
  {
   "cell_type": "code",
   "execution_count": 52,
   "id": "8b5a613f",
   "metadata": {},
   "outputs": [],
   "source": [
    "cat_cols = ['Type']"
   ]
  },
  {
   "cell_type": "code",
   "execution_count": 53,
   "id": "48323fac",
   "metadata": {},
   "outputs": [],
   "source": [
    "for col in cat_cols:\n",
    "    k = hr_all[col].value_counts(dropna = False)\n",
    "    cats = k.index[k>120][:-1]\n",
    "    for cat in cats:\n",
    "        name = col+'_'+cat\n",
    "        hr_all[name] = (hr_all[col]==cat).astype(int)\n",
    "    "
   ]
  },
  {
   "cell_type": "code",
   "execution_count": 54,
   "id": "db034917",
   "metadata": {},
   "outputs": [
    {
     "data": {
      "text/html": [
       "<div>\n",
       "<style scoped>\n",
       "    .dataframe tbody tr th:only-of-type {\n",
       "        vertical-align: middle;\n",
       "    }\n",
       "\n",
       "    .dataframe tbody tr th {\n",
       "        vertical-align: top;\n",
       "    }\n",
       "\n",
       "    .dataframe thead th {\n",
       "        text-align: right;\n",
       "    }\n",
       "</style>\n",
       "<table border=\"1\" class=\"dataframe\">\n",
       "  <thead>\n",
       "    <tr style=\"text-align: right;\">\n",
       "      <th></th>\n",
       "      <th>Rooms</th>\n",
       "      <th>Price</th>\n",
       "      <th>Distance</th>\n",
       "      <th>Postcode</th>\n",
       "      <th>Bedroom2</th>\n",
       "      <th>Bathroom</th>\n",
       "      <th>Car</th>\n",
       "      <th>Landsize</th>\n",
       "      <th>BuildingArea</th>\n",
       "      <th>Type_h</th>\n",
       "      <th>Type_u</th>\n",
       "    </tr>\n",
       "  </thead>\n",
       "  <tbody>\n",
       "    <tr>\n",
       "      <th>0</th>\n",
       "      <td>3</td>\n",
       "      <td>1650000.0</td>\n",
       "      <td>5.2</td>\n",
       "      <td>3056</td>\n",
       "      <td>3.0</td>\n",
       "      <td>1.0</td>\n",
       "      <td>2.0</td>\n",
       "      <td>495.0</td>\n",
       "      <td>141.0</td>\n",
       "      <td>1</td>\n",
       "      <td>0</td>\n",
       "    </tr>\n",
       "    <tr>\n",
       "      <th>1</th>\n",
       "      <td>5</td>\n",
       "      <td>791000.0</td>\n",
       "      <td>11.2</td>\n",
       "      <td>3073</td>\n",
       "      <td>4.0</td>\n",
       "      <td>3.0</td>\n",
       "      <td>1.0</td>\n",
       "      <td>961.0</td>\n",
       "      <td>NaN</td>\n",
       "      <td>1</td>\n",
       "      <td>0</td>\n",
       "    </tr>\n",
       "    <tr>\n",
       "      <th>2</th>\n",
       "      <td>3</td>\n",
       "      <td>785000.0</td>\n",
       "      <td>8.4</td>\n",
       "      <td>3015</td>\n",
       "      <td>3.0</td>\n",
       "      <td>1.0</td>\n",
       "      <td>1.0</td>\n",
       "      <td>185.0</td>\n",
       "      <td>NaN</td>\n",
       "      <td>1</td>\n",
       "      <td>0</td>\n",
       "    </tr>\n",
       "    <tr>\n",
       "      <th>3</th>\n",
       "      <td>2</td>\n",
       "      <td>755000.0</td>\n",
       "      <td>10.7</td>\n",
       "      <td>3187</td>\n",
       "      <td>NaN</td>\n",
       "      <td>NaN</td>\n",
       "      <td>NaN</td>\n",
       "      <td>NaN</td>\n",
       "      <td>NaN</td>\n",
       "      <td>0</td>\n",
       "      <td>1</td>\n",
       "    </tr>\n",
       "    <tr>\n",
       "      <th>4</th>\n",
       "      <td>5</td>\n",
       "      <td>2500000.0</td>\n",
       "      <td>7.5</td>\n",
       "      <td>3123</td>\n",
       "      <td>5.0</td>\n",
       "      <td>3.0</td>\n",
       "      <td>3.0</td>\n",
       "      <td>757.0</td>\n",
       "      <td>240.0</td>\n",
       "      <td>1</td>\n",
       "      <td>0</td>\n",
       "    </tr>\n",
       "    <tr>\n",
       "      <th>...</th>\n",
       "      <td>...</td>\n",
       "      <td>...</td>\n",
       "      <td>...</td>\n",
       "      <td>...</td>\n",
       "      <td>...</td>\n",
       "      <td>...</td>\n",
       "      <td>...</td>\n",
       "      <td>...</td>\n",
       "      <td>...</td>\n",
       "      <td>...</td>\n",
       "      <td>...</td>\n",
       "    </tr>\n",
       "    <tr>\n",
       "      <th>1880</th>\n",
       "      <td>3</td>\n",
       "      <td>NaN</td>\n",
       "      <td>14.5</td>\n",
       "      <td>3042</td>\n",
       "      <td>NaN</td>\n",
       "      <td>NaN</td>\n",
       "      <td>NaN</td>\n",
       "      <td>NaN</td>\n",
       "      <td>NaN</td>\n",
       "      <td>1</td>\n",
       "      <td>0</td>\n",
       "    </tr>\n",
       "    <tr>\n",
       "      <th>1881</th>\n",
       "      <td>3</td>\n",
       "      <td>NaN</td>\n",
       "      <td>14.5</td>\n",
       "      <td>3042</td>\n",
       "      <td>3.0</td>\n",
       "      <td>2.0</td>\n",
       "      <td>2.0</td>\n",
       "      <td>554.0</td>\n",
       "      <td>129.0</td>\n",
       "      <td>1</td>\n",
       "      <td>0</td>\n",
       "    </tr>\n",
       "    <tr>\n",
       "      <th>1882</th>\n",
       "      <td>3</td>\n",
       "      <td>NaN</td>\n",
       "      <td>9.8</td>\n",
       "      <td>3185</td>\n",
       "      <td>3.0</td>\n",
       "      <td>2.0</td>\n",
       "      <td>2.0</td>\n",
       "      <td>236.0</td>\n",
       "      <td>193.0</td>\n",
       "      <td>1</td>\n",
       "      <td>0</td>\n",
       "    </tr>\n",
       "    <tr>\n",
       "      <th>1883</th>\n",
       "      <td>2</td>\n",
       "      <td>NaN</td>\n",
       "      <td>9.8</td>\n",
       "      <td>3185</td>\n",
       "      <td>2.0</td>\n",
       "      <td>1.0</td>\n",
       "      <td>1.0</td>\n",
       "      <td>0.0</td>\n",
       "      <td>65.0</td>\n",
       "      <td>0</td>\n",
       "      <td>1</td>\n",
       "    </tr>\n",
       "    <tr>\n",
       "      <th>1884</th>\n",
       "      <td>3</td>\n",
       "      <td>NaN</td>\n",
       "      <td>3.7</td>\n",
       "      <td>3054</td>\n",
       "      <td>3.0</td>\n",
       "      <td>1.0</td>\n",
       "      <td>2.0</td>\n",
       "      <td>341.0</td>\n",
       "      <td>NaN</td>\n",
       "      <td>1</td>\n",
       "      <td>0</td>\n",
       "    </tr>\n",
       "  </tbody>\n",
       "</table>\n",
       "<p>9421 rows × 11 columns</p>\n",
       "</div>"
      ],
      "text/plain": [
       "      Rooms      Price  Distance  Postcode  Bedroom2  Bathroom  Car  Landsize  \\\n",
       "0         3  1650000.0       5.2      3056       3.0       1.0  2.0     495.0   \n",
       "1         5   791000.0      11.2      3073       4.0       3.0  1.0     961.0   \n",
       "2         3   785000.0       8.4      3015       3.0       1.0  1.0     185.0   \n",
       "3         2   755000.0      10.7      3187       NaN       NaN  NaN       NaN   \n",
       "4         5  2500000.0       7.5      3123       5.0       3.0  3.0     757.0   \n",
       "...     ...        ...       ...       ...       ...       ...  ...       ...   \n",
       "1880      3        NaN      14.5      3042       NaN       NaN  NaN       NaN   \n",
       "1881      3        NaN      14.5      3042       3.0       2.0  2.0     554.0   \n",
       "1882      3        NaN       9.8      3185       3.0       2.0  2.0     236.0   \n",
       "1883      2        NaN       9.8      3185       2.0       1.0  1.0       0.0   \n",
       "1884      3        NaN       3.7      3054       3.0       1.0  2.0     341.0   \n",
       "\n",
       "      BuildingArea  Type_h  Type_u  \n",
       "0            141.0       1       0  \n",
       "1              NaN       1       0  \n",
       "2              NaN       1       0  \n",
       "3              NaN       0       1  \n",
       "4            240.0       1       0  \n",
       "...            ...     ...     ...  \n",
       "1880           NaN       1       0  \n",
       "1881         129.0       1       0  \n",
       "1882         193.0       1       0  \n",
       "1883          65.0       0       1  \n",
       "1884           NaN       1       0  \n",
       "\n",
       "[9421 rows x 11 columns]"
      ]
     },
     "execution_count": 54,
     "metadata": {},
     "output_type": "execute_result"
    }
   ],
   "source": [
    "hr_all.select_dtypes(exclude = 'object')"
   ]
  },
  {
   "cell_type": "code",
   "execution_count": 55,
   "id": "26428492",
   "metadata": {},
   "outputs": [
    {
     "data": {
      "text/plain": [
       "Index(['Suburb', 'Rooms', 'Type', 'Price', 'Method', 'SellerG', 'Distance',\n",
       "       'Postcode', 'Bedroom2', 'Bathroom', 'Car', 'Landsize', 'BuildingArea',\n",
       "       'YearBuilt', 'CouncilArea', 'data', 'Type_h', 'Type_u'],\n",
       "      dtype='object')"
      ]
     },
     "execution_count": 55,
     "metadata": {},
     "output_type": "execute_result"
    }
   ],
   "source": [
    "hr_all.columns"
   ]
  },
  {
   "cell_type": "code",
   "execution_count": 56,
   "id": "1c159687",
   "metadata": {},
   "outputs": [],
   "source": [
    "del hr_all['Type']"
   ]
  },
  {
   "cell_type": "code",
   "execution_count": 57,
   "id": "963f0f76",
   "metadata": {},
   "outputs": [],
   "source": [
    "cat_col = ['Method']"
   ]
  },
  {
   "cell_type": "code",
   "execution_count": 58,
   "id": "d5c5d55f",
   "metadata": {},
   "outputs": [],
   "source": [
    "for col in cat_col:\n",
    "    k = hr_all[col].value_counts(dropna = False)\n",
    "    cats = k.index[k>120][:-1]\n",
    "    for cat in cats:\n",
    "        name = col+'_'+cat\n",
    "        hr_all[name] = (hr_all[col]==cat).astype(int)"
   ]
  },
  {
   "cell_type": "code",
   "execution_count": 59,
   "id": "9d4040ca",
   "metadata": {},
   "outputs": [],
   "source": [
    "cat_cols_1 = ['SellerG']"
   ]
  },
  {
   "cell_type": "code",
   "execution_count": 60,
   "id": "2642eca3",
   "metadata": {},
   "outputs": [],
   "source": [
    "for col in cat_cols_1:\n",
    "    k = hr_all[col].value_counts(dropna = False)\n",
    "    cats = k.index[k>120][:-1]\n",
    "    for cat in cats:\n",
    "        name = col+'_'+cat\n",
    "        hr_all[name] = (hr_all[col]==cat).astype(int)"
   ]
  },
  {
   "cell_type": "code",
   "execution_count": 61,
   "id": "4f168ea7",
   "metadata": {},
   "outputs": [],
   "source": [
    "cat_cols_2 = ['CouncilArea']"
   ]
  },
  {
   "cell_type": "code",
   "execution_count": 62,
   "id": "8067848a",
   "metadata": {},
   "outputs": [
    {
     "ename": "TypeError",
     "evalue": "can only concatenate str (not \"float\") to str",
     "output_type": "error",
     "traceback": [
      "\u001b[1;31m---------------------------------------------------------------------------\u001b[0m",
      "\u001b[1;31mTypeError\u001b[0m                                 Traceback (most recent call last)",
      "\u001b[1;32m<ipython-input-62-258f94683329>\u001b[0m in \u001b[0;36m<module>\u001b[1;34m\u001b[0m\n\u001b[0;32m      3\u001b[0m     \u001b[0mcats\u001b[0m \u001b[1;33m=\u001b[0m \u001b[0mk\u001b[0m\u001b[1;33m.\u001b[0m\u001b[0mindex\u001b[0m\u001b[1;33m[\u001b[0m\u001b[0mk\u001b[0m\u001b[1;33m>\u001b[0m\u001b[1;36m120\u001b[0m\u001b[1;33m]\u001b[0m\u001b[1;33m[\u001b[0m\u001b[1;33m:\u001b[0m\u001b[1;33m-\u001b[0m\u001b[1;36m1\u001b[0m\u001b[1;33m]\u001b[0m\u001b[1;33m\u001b[0m\u001b[1;33m\u001b[0m\u001b[0m\n\u001b[0;32m      4\u001b[0m     \u001b[1;32mfor\u001b[0m \u001b[0mcat\u001b[0m \u001b[1;32min\u001b[0m \u001b[0mcats\u001b[0m\u001b[1;33m:\u001b[0m\u001b[1;33m\u001b[0m\u001b[1;33m\u001b[0m\u001b[0m\n\u001b[1;32m----> 5\u001b[1;33m         \u001b[0mname\u001b[0m \u001b[1;33m=\u001b[0m \u001b[0mcol\u001b[0m\u001b[1;33m+\u001b[0m\u001b[1;34m'_'\u001b[0m\u001b[1;33m+\u001b[0m\u001b[0mcat\u001b[0m\u001b[1;33m\u001b[0m\u001b[1;33m\u001b[0m\u001b[0m\n\u001b[0m\u001b[0;32m      6\u001b[0m         \u001b[0mhr_all\u001b[0m\u001b[1;33m[\u001b[0m\u001b[0mname\u001b[0m\u001b[1;33m]\u001b[0m \u001b[1;33m=\u001b[0m \u001b[1;33m(\u001b[0m\u001b[0mhr_all\u001b[0m\u001b[1;33m[\u001b[0m\u001b[0mcol\u001b[0m\u001b[1;33m]\u001b[0m\u001b[1;33m==\u001b[0m\u001b[0mcat\u001b[0m\u001b[1;33m)\u001b[0m\u001b[1;33m.\u001b[0m\u001b[0mastype\u001b[0m\u001b[1;33m(\u001b[0m\u001b[0mint\u001b[0m\u001b[1;33m)\u001b[0m\u001b[1;33m\u001b[0m\u001b[1;33m\u001b[0m\u001b[0m\n",
      "\u001b[1;31mTypeError\u001b[0m: can only concatenate str (not \"float\") to str"
     ]
    }
   ],
   "source": [
    "for col in cat_cols_2:\n",
    "    k = hr_all[col].value_counts(dropna = False)\n",
    "    cats = k.index[k>120][:-1]\n",
    "    for cat in cats:\n",
    "        name = col+'_'+cat\n",
    "        hr_all[name] = (hr_all[col]==cat).astype(int)"
   ]
  },
  {
   "cell_type": "code",
   "execution_count": 63,
   "id": "baf13602",
   "metadata": {},
   "outputs": [
    {
     "data": {
      "text/plain": [
       "NaN              1564\n",
       "Boroondara        635\n",
       "Moreland          609\n",
       "Moonee Valley     536\n",
       "Darebin           517\n",
       "Glen Eira         475\n",
       "Stonnington       433\n",
       "Maribyrnong       372\n",
       "Yarra             368\n",
       "Port Phillip      362\n",
       "Banyule           282\n",
       "Melbourne         266\n",
       "Bayside           246\n",
       "Hobsons Bay       234\n",
       "Brimbank          197\n",
       "Manningham        151\n",
       "Whitehorse        113\n",
       "Monash            112\n",
       "Kingston           54\n",
       "Hume               10\n",
       "Name: CouncilArea, dtype: int64"
      ]
     },
     "execution_count": 63,
     "metadata": {},
     "output_type": "execute_result"
    }
   ],
   "source": [
    "hr_train['CouncilArea'].value_counts(dropna = False)"
   ]
  },
  {
   "cell_type": "code",
   "execution_count": 64,
   "id": "3fc6b0dc",
   "metadata": {},
   "outputs": [
    {
     "data": {
      "text/plain": [
       "0    Boroondara\n",
       "dtype: object"
      ]
     },
     "execution_count": 64,
     "metadata": {},
     "output_type": "execute_result"
    }
   ],
   "source": [
    "hr_train['CouncilArea'].mode()"
   ]
  },
  {
   "cell_type": "code",
   "execution_count": 65,
   "id": "dbe7b243",
   "metadata": {},
   "outputs": [],
   "source": [
    "hr_all.drop(['SellerG','Method'],axis = 1,inplace = True)"
   ]
  },
  {
   "cell_type": "code",
   "execution_count": 66,
   "id": "0dc39efb",
   "metadata": {},
   "outputs": [],
   "source": [
    "hr_all['CouncilArea'] = hr_all['CouncilArea'].fillna('Boroondara')"
   ]
  },
  {
   "cell_type": "code",
   "execution_count": 67,
   "id": "8bcdff2b",
   "metadata": {},
   "outputs": [
    {
     "data": {
      "text/plain": [
       "Boroondara       2788\n",
       "Moreland          765\n",
       "Moonee Valley     678\n",
       "Darebin           648\n",
       "Glen Eira         608\n",
       "Stonnington       511\n",
       "Maribyrnong       478\n",
       "Yarra             455\n",
       "Port Phillip      441\n",
       "Banyule           359\n",
       "Melbourne         324\n",
       "Bayside           311\n",
       "Hobsons Bay       286\n",
       "Brimbank          238\n",
       "Manningham        181\n",
       "Whitehorse        139\n",
       "Monash            132\n",
       "Kingston           65\n",
       "Hume               14\n",
       "Name: CouncilArea, dtype: int64"
      ]
     },
     "execution_count": 67,
     "metadata": {},
     "output_type": "execute_result"
    }
   ],
   "source": [
    "hr_all['CouncilArea'].value_counts(dropna = False)"
   ]
  },
  {
   "cell_type": "code",
   "execution_count": 68,
   "id": "5652c567",
   "metadata": {},
   "outputs": [],
   "source": [
    "del hr_all['CouncilArea']"
   ]
  },
  {
   "cell_type": "code",
   "execution_count": 69,
   "id": "2346a95d",
   "metadata": {},
   "outputs": [
    {
     "data": {
      "text/plain": [
       "Index(['Suburb', 'Rooms', 'Price', 'Distance', 'Postcode', 'Bedroom2',\n",
       "       'Bathroom', 'Car', 'Landsize', 'BuildingArea', 'YearBuilt', 'data',\n",
       "       'Type_h', 'Type_u', 'Method_S', 'Method_PI', 'Method_SP',\n",
       "       'SellerG_Nelson', 'SellerG_Jellis', 'SellerG_hockingstuart',\n",
       "       'SellerG_Barry', 'SellerG_Marshall', 'SellerG_Buxton', 'SellerG_Ray',\n",
       "       'SellerG_Biggin', 'SellerG_Brad', 'SellerG_Woodards',\n",
       "       'SellerG_Fletchers', 'SellerG_RT', 'SellerG_Sweeney', 'SellerG_Greg',\n",
       "       'SellerG_Miles', 'SellerG_Jas'],\n",
       "      dtype='object')"
      ]
     },
     "execution_count": 69,
     "metadata": {},
     "output_type": "execute_result"
    }
   ],
   "source": [
    "hr_all.columns"
   ]
  },
  {
   "cell_type": "code",
   "execution_count": 70,
   "id": "1a993284",
   "metadata": {},
   "outputs": [
    {
     "data": {
      "text/plain": [
       "3"
      ]
     },
     "execution_count": 70,
     "metadata": {},
     "output_type": "execute_result"
    }
   ],
   "source": [
    "round(hr_train['Bedroom2'].mean())"
   ]
  },
  {
   "cell_type": "code",
   "execution_count": 71,
   "id": "8d748287",
   "metadata": {},
   "outputs": [],
   "source": [
    "hr_all['Bedroom2'] = hr_train['Bedroom2'].fillna(3)"
   ]
  },
  {
   "cell_type": "code",
   "execution_count": 72,
   "id": "31518c8a",
   "metadata": {},
   "outputs": [
    {
     "data": {
      "text/plain": [
       "0    1.0\n",
       "dtype: float64"
      ]
     },
     "execution_count": 72,
     "metadata": {},
     "output_type": "execute_result"
    }
   ],
   "source": [
    "round(hr_train['Bathroom'].mode())"
   ]
  },
  {
   "cell_type": "code",
   "execution_count": 73,
   "id": "c9105c1d",
   "metadata": {},
   "outputs": [],
   "source": [
    "hr_all['Bathroom'] = hr_all['Bathroom'].fillna(1)"
   ]
  },
  {
   "cell_type": "code",
   "execution_count": 74,
   "id": "f85f9131",
   "metadata": {},
   "outputs": [
    {
     "data": {
      "text/plain": [
       "2"
      ]
     },
     "execution_count": 74,
     "metadata": {},
     "output_type": "execute_result"
    }
   ],
   "source": [
    "round(hr_train['Car'].mean())"
   ]
  },
  {
   "cell_type": "code",
   "execution_count": 75,
   "id": "f87864e1",
   "metadata": {},
   "outputs": [],
   "source": [
    "hr_all['Car'] = hr_all['Car'].fillna(2)"
   ]
  },
  {
   "cell_type": "code",
   "execution_count": 76,
   "id": "e5f7df96",
   "metadata": {},
   "outputs": [
    {
     "data": {
      "text/plain": [
       "143.04718966035466"
      ]
     },
     "execution_count": 76,
     "metadata": {},
     "output_type": "execute_result"
    }
   ],
   "source": [
    "hr_train['BuildingArea'].mean()"
   ]
  },
  {
   "cell_type": "code",
   "execution_count": 77,
   "id": "96eb1115",
   "metadata": {},
   "outputs": [
    {
     "data": {
      "text/plain": [
       "120.0    53\n",
       "100.0    44\n",
       "130.0    40\n",
       "85.0     39\n",
       "115.0    38\n",
       "         ..\n",
       "364.0     1\n",
       "792.0     1\n",
       "321.0     1\n",
       "502.0     1\n",
       "0.0       1\n",
       "Name: BuildingArea, Length: 386, dtype: int64"
      ]
     },
     "execution_count": 77,
     "metadata": {},
     "output_type": "execute_result"
    }
   ],
   "source": [
    "hr_train['BuildingArea'].value_counts()"
   ]
  },
  {
   "cell_type": "code",
   "execution_count": 78,
   "id": "356a821a",
   "metadata": {},
   "outputs": [],
   "source": [
    "hr_all['BuildingArea'] = hr_all['BuildingArea'].fillna(143)"
   ]
  },
  {
   "cell_type": "code",
   "execution_count": 79,
   "id": "88778b80",
   "metadata": {},
   "outputs": [
    {
     "data": {
      "text/plain": [
       "452.44775619557936"
      ]
     },
     "execution_count": 79,
     "metadata": {},
     "output_type": "execute_result"
    }
   ],
   "source": [
    "hr_train['Landsize'].mean()"
   ]
  },
  {
   "cell_type": "code",
   "execution_count": 80,
   "id": "273d9c10",
   "metadata": {},
   "outputs": [],
   "source": [
    "hr_all['Landsize'] = hr_all['Landsize'].fillna(452)"
   ]
  },
  {
   "cell_type": "code",
   "execution_count": 81,
   "id": "0d90136d",
   "metadata": {},
   "outputs": [
    {
     "data": {
      "text/plain": [
       "Suburb                      0\n",
       "Rooms                       0\n",
       "Price                    1885\n",
       "Distance                    0\n",
       "Postcode                    0\n",
       "Bedroom2                    0\n",
       "Bathroom                    0\n",
       "Car                         0\n",
       "Landsize                    0\n",
       "BuildingArea                0\n",
       "YearBuilt                   0\n",
       "data                        0\n",
       "Type_h                      0\n",
       "Type_u                      0\n",
       "Method_S                    0\n",
       "Method_PI                   0\n",
       "Method_SP                   0\n",
       "SellerG_Nelson              0\n",
       "SellerG_Jellis              0\n",
       "SellerG_hockingstuart       0\n",
       "SellerG_Barry               0\n",
       "SellerG_Marshall            0\n",
       "SellerG_Buxton              0\n",
       "SellerG_Ray                 0\n",
       "SellerG_Biggin              0\n",
       "SellerG_Brad                0\n",
       "SellerG_Woodards            0\n",
       "SellerG_Fletchers           0\n",
       "SellerG_RT                  0\n",
       "SellerG_Sweeney             0\n",
       "SellerG_Greg                0\n",
       "SellerG_Miles               0\n",
       "SellerG_Jas                 0\n",
       "dtype: int64"
      ]
     },
     "execution_count": 81,
     "metadata": {},
     "output_type": "execute_result"
    }
   ],
   "source": [
    "hr_all.isnull().sum()"
   ]
  },
  {
   "cell_type": "code",
   "execution_count": 82,
   "id": "52bb8090",
   "metadata": {},
   "outputs": [
    {
     "data": {
      "text/html": [
       "<div>\n",
       "<style scoped>\n",
       "    .dataframe tbody tr th:only-of-type {\n",
       "        vertical-align: middle;\n",
       "    }\n",
       "\n",
       "    .dataframe tbody tr th {\n",
       "        vertical-align: top;\n",
       "    }\n",
       "\n",
       "    .dataframe thead th {\n",
       "        text-align: right;\n",
       "    }\n",
       "</style>\n",
       "<table border=\"1\" class=\"dataframe\">\n",
       "  <thead>\n",
       "    <tr style=\"text-align: right;\">\n",
       "      <th></th>\n",
       "      <th>Suburb</th>\n",
       "      <th>YearBuilt</th>\n",
       "      <th>data</th>\n",
       "    </tr>\n",
       "  </thead>\n",
       "  <tbody>\n",
       "    <tr>\n",
       "      <th>0</th>\n",
       "      <td>Brunswick</td>\n",
       "      <td>1920.0</td>\n",
       "      <td>train</td>\n",
       "    </tr>\n",
       "    <tr>\n",
       "      <th>1</th>\n",
       "      <td>Reservoir</td>\n",
       "      <td>1970</td>\n",
       "      <td>train</td>\n",
       "    </tr>\n",
       "    <tr>\n",
       "      <th>2</th>\n",
       "      <td>Newport</td>\n",
       "      <td>1970</td>\n",
       "      <td>train</td>\n",
       "    </tr>\n",
       "    <tr>\n",
       "      <th>3</th>\n",
       "      <td>Brighton East</td>\n",
       "      <td>1970</td>\n",
       "      <td>train</td>\n",
       "    </tr>\n",
       "    <tr>\n",
       "      <th>4</th>\n",
       "      <td>Hawthorn East</td>\n",
       "      <td>1925.0</td>\n",
       "      <td>train</td>\n",
       "    </tr>\n",
       "    <tr>\n",
       "      <th>...</th>\n",
       "      <td>...</td>\n",
       "      <td>...</td>\n",
       "      <td>...</td>\n",
       "    </tr>\n",
       "    <tr>\n",
       "      <th>1880</th>\n",
       "      <td>Keilor Park</td>\n",
       "      <td>1970</td>\n",
       "      <td>test</td>\n",
       "    </tr>\n",
       "    <tr>\n",
       "      <th>1881</th>\n",
       "      <td>Keilor Park</td>\n",
       "      <td>1980.0</td>\n",
       "      <td>test</td>\n",
       "    </tr>\n",
       "    <tr>\n",
       "      <th>1882</th>\n",
       "      <td>Gardenvale</td>\n",
       "      <td>2004.0</td>\n",
       "      <td>test</td>\n",
       "    </tr>\n",
       "    <tr>\n",
       "      <th>1883</th>\n",
       "      <td>Gardenvale</td>\n",
       "      <td>1970.0</td>\n",
       "      <td>test</td>\n",
       "    </tr>\n",
       "    <tr>\n",
       "      <th>1884</th>\n",
       "      <td>Princes Hill</td>\n",
       "      <td>1970</td>\n",
       "      <td>test</td>\n",
       "    </tr>\n",
       "  </tbody>\n",
       "</table>\n",
       "<p>9421 rows × 3 columns</p>\n",
       "</div>"
      ],
      "text/plain": [
       "             Suburb YearBuilt   data\n",
       "0         Brunswick    1920.0  train\n",
       "1         Reservoir      1970  train\n",
       "2           Newport      1970  train\n",
       "3     Brighton East      1970  train\n",
       "4     Hawthorn East    1925.0  train\n",
       "...             ...       ...    ...\n",
       "1880    Keilor Park      1970   test\n",
       "1881    Keilor Park    1980.0   test\n",
       "1882     Gardenvale    2004.0   test\n",
       "1883     Gardenvale    1970.0   test\n",
       "1884   Princes Hill      1970   test\n",
       "\n",
       "[9421 rows x 3 columns]"
      ]
     },
     "execution_count": 82,
     "metadata": {},
     "output_type": "execute_result"
    }
   ],
   "source": [
    "hr_all.select_dtypes(object)"
   ]
  },
  {
   "cell_type": "code",
   "execution_count": 83,
   "id": "ac3c9e07",
   "metadata": {},
   "outputs": [
    {
     "data": {
      "text/plain": [
       "dtype('int64')"
      ]
     },
     "execution_count": 83,
     "metadata": {},
     "output_type": "execute_result"
    }
   ],
   "source": [
    "hr_all['Postcode'].dtypes"
   ]
  },
  {
   "cell_type": "code",
   "execution_count": 84,
   "id": "732f532b",
   "metadata": {},
   "outputs": [],
   "source": [
    "hr_all['Postcode'] = hr_all['Postcode'].astype(object)"
   ]
  },
  {
   "cell_type": "code",
   "execution_count": 85,
   "id": "d64068a6",
   "metadata": {},
   "outputs": [],
   "source": [
    "cat_cols_3 = ['Postcode','YearBuilt']"
   ]
  },
  {
   "cell_type": "code",
   "execution_count": 86,
   "id": "d8f56089",
   "metadata": {},
   "outputs": [],
   "source": [
    "for col in cat_cols_3:\n",
    "    k = hr_all[col].value_counts(dropna = False)\n",
    "    cats = k.index[k>120][:-1]\n",
    "    for cat in cats:\n",
    "        name = col+'_'+str(cat)\n",
    "        hr_all[name] = (hr_all[col]==cat).astype(int)"
   ]
  },
  {
   "cell_type": "code",
   "execution_count": 87,
   "id": "e75be425",
   "metadata": {},
   "outputs": [],
   "source": [
    "hr_all.drop(['Postcode','YearBuilt'],axis = 1,inplace = True)"
   ]
  },
  {
   "cell_type": "code",
   "execution_count": 88,
   "id": "431e0f4a",
   "metadata": {},
   "outputs": [
    {
     "data": {
      "text/plain": [
       "Suburb                 0\n",
       "Rooms                  0\n",
       "Price               1885\n",
       "Distance               0\n",
       "Bedroom2               0\n",
       "                    ... \n",
       "YearBuilt_1920.0       0\n",
       "YearBuilt_2000.0       0\n",
       "YearBuilt_1910.0       0\n",
       "YearBuilt_1890.0       0\n",
       "YearBuilt_1940.0       0\n",
       "Length: 75, dtype: int64"
      ]
     },
     "execution_count": 88,
     "metadata": {},
     "output_type": "execute_result"
    }
   ],
   "source": [
    "hr_all.isnull().sum()"
   ]
  },
  {
   "cell_type": "code",
   "execution_count": 89,
   "id": "3cf336d7",
   "metadata": {},
   "outputs": [],
   "source": [
    "del hr_all['Suburb']"
   ]
  },
  {
   "cell_type": "code",
   "execution_count": 90,
   "id": "5566616c",
   "metadata": {},
   "outputs": [
    {
     "data": {
      "text/plain": [
       "(9421, 74)"
      ]
     },
     "execution_count": 90,
     "metadata": {},
     "output_type": "execute_result"
    }
   ],
   "source": [
    "hr_all.shape"
   ]
  },
  {
   "cell_type": "code",
   "execution_count": 91,
   "id": "9826d8a7",
   "metadata": {},
   "outputs": [],
   "source": [
    "hr_train = hr_all[hr_all['data'] == 'train']\n",
    "hr_test = hr_all[hr_all['data'] == 'test']"
   ]
  },
  {
   "cell_type": "code",
   "execution_count": 92,
   "id": "df533dfe",
   "metadata": {},
   "outputs": [
    {
     "data": {
      "text/plain": [
       "(7536, 74)"
      ]
     },
     "execution_count": 92,
     "metadata": {},
     "output_type": "execute_result"
    }
   ],
   "source": [
    "hr_train.shape"
   ]
  },
  {
   "cell_type": "code",
   "execution_count": 93,
   "id": "c6954a25",
   "metadata": {},
   "outputs": [
    {
     "data": {
      "text/plain": [
       "(1885, 74)"
      ]
     },
     "execution_count": 93,
     "metadata": {},
     "output_type": "execute_result"
    }
   ],
   "source": [
    "hr_test.shape"
   ]
  },
  {
   "cell_type": "code",
   "execution_count": 94,
   "id": "0ff967f4",
   "metadata": {},
   "outputs": [],
   "source": [
    "del hr_train['data']"
   ]
  },
  {
   "cell_type": "code",
   "execution_count": 95,
   "id": "a53dffce",
   "metadata": {},
   "outputs": [
    {
     "name": "stderr",
     "output_type": "stream",
     "text": [
      "C:\\Users\\h8man\\anaconda3\\lib\\site-packages\\pandas\\core\\frame.py:4308: SettingWithCopyWarning: \n",
      "A value is trying to be set on a copy of a slice from a DataFrame\n",
      "\n",
      "See the caveats in the documentation: https://pandas.pydata.org/pandas-docs/stable/user_guide/indexing.html#returning-a-view-versus-a-copy\n",
      "  return super().drop(\n"
     ]
    }
   ],
   "source": [
    "hr_test.drop(['data','Price'],axis = 1,inplace = True)"
   ]
  },
  {
   "cell_type": "code",
   "execution_count": 96,
   "id": "9cb482bb",
   "metadata": {},
   "outputs": [
    {
     "data": {
      "text/plain": [
       "(1885, 72)"
      ]
     },
     "execution_count": 96,
     "metadata": {},
     "output_type": "execute_result"
    }
   ],
   "source": [
    "hr_test.shape"
   ]
  },
  {
   "cell_type": "code",
   "execution_count": 97,
   "id": "966df6ef",
   "metadata": {},
   "outputs": [
    {
     "data": {
      "text/html": [
       "<div>\n",
       "<style scoped>\n",
       "    .dataframe tbody tr th:only-of-type {\n",
       "        vertical-align: middle;\n",
       "    }\n",
       "\n",
       "    .dataframe tbody tr th {\n",
       "        vertical-align: top;\n",
       "    }\n",
       "\n",
       "    .dataframe thead th {\n",
       "        text-align: right;\n",
       "    }\n",
       "</style>\n",
       "<table border=\"1\" class=\"dataframe\">\n",
       "  <thead>\n",
       "    <tr style=\"text-align: right;\">\n",
       "      <th></th>\n",
       "      <th>Rooms</th>\n",
       "      <th>Distance</th>\n",
       "      <th>Bedroom2</th>\n",
       "      <th>Bathroom</th>\n",
       "      <th>Car</th>\n",
       "      <th>Landsize</th>\n",
       "      <th>BuildingArea</th>\n",
       "      <th>Type_h</th>\n",
       "      <th>Type_u</th>\n",
       "      <th>Method_S</th>\n",
       "      <th>...</th>\n",
       "      <th>YearBuilt_1970.0</th>\n",
       "      <th>YearBuilt_1960.0</th>\n",
       "      <th>YearBuilt_1950.0</th>\n",
       "      <th>YearBuilt_1900.0</th>\n",
       "      <th>YearBuilt_1930.0</th>\n",
       "      <th>YearBuilt_1920.0</th>\n",
       "      <th>YearBuilt_2000.0</th>\n",
       "      <th>YearBuilt_1910.0</th>\n",
       "      <th>YearBuilt_1890.0</th>\n",
       "      <th>YearBuilt_1940.0</th>\n",
       "    </tr>\n",
       "  </thead>\n",
       "  <tbody>\n",
       "    <tr>\n",
       "      <th>115</th>\n",
       "      <td>3</td>\n",
       "      <td>10.5</td>\n",
       "      <td>3.0</td>\n",
       "      <td>1.0</td>\n",
       "      <td>2.0</td>\n",
       "      <td>649.0</td>\n",
       "      <td>143.0</td>\n",
       "      <td>1</td>\n",
       "      <td>0</td>\n",
       "      <td>0</td>\n",
       "      <td>...</td>\n",
       "      <td>0</td>\n",
       "      <td>0</td>\n",
       "      <td>0</td>\n",
       "      <td>0</td>\n",
       "      <td>0</td>\n",
       "      <td>0</td>\n",
       "      <td>0</td>\n",
       "      <td>0</td>\n",
       "      <td>0</td>\n",
       "      <td>0</td>\n",
       "    </tr>\n",
       "    <tr>\n",
       "      <th>592</th>\n",
       "      <td>2</td>\n",
       "      <td>7.7</td>\n",
       "      <td>1.0</td>\n",
       "      <td>1.0</td>\n",
       "      <td>2.0</td>\n",
       "      <td>0.0</td>\n",
       "      <td>85.0</td>\n",
       "      <td>0</td>\n",
       "      <td>1</td>\n",
       "      <td>1</td>\n",
       "      <td>...</td>\n",
       "      <td>0</td>\n",
       "      <td>0</td>\n",
       "      <td>0</td>\n",
       "      <td>0</td>\n",
       "      <td>0</td>\n",
       "      <td>0</td>\n",
       "      <td>0</td>\n",
       "      <td>0</td>\n",
       "      <td>0</td>\n",
       "      <td>1</td>\n",
       "    </tr>\n",
       "    <tr>\n",
       "      <th>1599</th>\n",
       "      <td>2</td>\n",
       "      <td>6.5</td>\n",
       "      <td>3.0</td>\n",
       "      <td>1.0</td>\n",
       "      <td>2.0</td>\n",
       "      <td>452.0</td>\n",
       "      <td>143.0</td>\n",
       "      <td>0</td>\n",
       "      <td>1</td>\n",
       "      <td>0</td>\n",
       "      <td>...</td>\n",
       "      <td>0</td>\n",
       "      <td>0</td>\n",
       "      <td>0</td>\n",
       "      <td>0</td>\n",
       "      <td>0</td>\n",
       "      <td>0</td>\n",
       "      <td>0</td>\n",
       "      <td>0</td>\n",
       "      <td>0</td>\n",
       "      <td>0</td>\n",
       "    </tr>\n",
       "    <tr>\n",
       "      <th>1469</th>\n",
       "      <td>1</td>\n",
       "      <td>3.3</td>\n",
       "      <td>4.0</td>\n",
       "      <td>1.0</td>\n",
       "      <td>2.0</td>\n",
       "      <td>0.0</td>\n",
       "      <td>143.0</td>\n",
       "      <td>0</td>\n",
       "      <td>1</td>\n",
       "      <td>1</td>\n",
       "      <td>...</td>\n",
       "      <td>0</td>\n",
       "      <td>0</td>\n",
       "      <td>0</td>\n",
       "      <td>0</td>\n",
       "      <td>0</td>\n",
       "      <td>0</td>\n",
       "      <td>0</td>\n",
       "      <td>0</td>\n",
       "      <td>0</td>\n",
       "      <td>0</td>\n",
       "    </tr>\n",
       "    <tr>\n",
       "      <th>1705</th>\n",
       "      <td>2</td>\n",
       "      <td>9.1</td>\n",
       "      <td>3.0</td>\n",
       "      <td>1.0</td>\n",
       "      <td>1.0</td>\n",
       "      <td>976.0</td>\n",
       "      <td>71.0</td>\n",
       "      <td>0</td>\n",
       "      <td>1</td>\n",
       "      <td>1</td>\n",
       "      <td>...</td>\n",
       "      <td>0</td>\n",
       "      <td>0</td>\n",
       "      <td>0</td>\n",
       "      <td>0</td>\n",
       "      <td>0</td>\n",
       "      <td>0</td>\n",
       "      <td>1</td>\n",
       "      <td>0</td>\n",
       "      <td>0</td>\n",
       "      <td>0</td>\n",
       "    </tr>\n",
       "    <tr>\n",
       "      <th>1448</th>\n",
       "      <td>2</td>\n",
       "      <td>3.3</td>\n",
       "      <td>3.0</td>\n",
       "      <td>1.0</td>\n",
       "      <td>2.0</td>\n",
       "      <td>452.0</td>\n",
       "      <td>143.0</td>\n",
       "      <td>0</td>\n",
       "      <td>1</td>\n",
       "      <td>1</td>\n",
       "      <td>...</td>\n",
       "      <td>0</td>\n",
       "      <td>0</td>\n",
       "      <td>0</td>\n",
       "      <td>0</td>\n",
       "      <td>0</td>\n",
       "      <td>0</td>\n",
       "      <td>0</td>\n",
       "      <td>0</td>\n",
       "      <td>0</td>\n",
       "      <td>0</td>\n",
       "    </tr>\n",
       "    <tr>\n",
       "      <th>473</th>\n",
       "      <td>4</td>\n",
       "      <td>11.4</td>\n",
       "      <td>3.0</td>\n",
       "      <td>2.0</td>\n",
       "      <td>3.0</td>\n",
       "      <td>932.0</td>\n",
       "      <td>270.0</td>\n",
       "      <td>1</td>\n",
       "      <td>0</td>\n",
       "      <td>1</td>\n",
       "      <td>...</td>\n",
       "      <td>1</td>\n",
       "      <td>0</td>\n",
       "      <td>0</td>\n",
       "      <td>0</td>\n",
       "      <td>0</td>\n",
       "      <td>0</td>\n",
       "      <td>0</td>\n",
       "      <td>0</td>\n",
       "      <td>0</td>\n",
       "      <td>0</td>\n",
       "    </tr>\n",
       "    <tr>\n",
       "      <th>343</th>\n",
       "      <td>2</td>\n",
       "      <td>5.2</td>\n",
       "      <td>2.0</td>\n",
       "      <td>1.0</td>\n",
       "      <td>1.0</td>\n",
       "      <td>319.0</td>\n",
       "      <td>143.0</td>\n",
       "      <td>1</td>\n",
       "      <td>0</td>\n",
       "      <td>1</td>\n",
       "      <td>...</td>\n",
       "      <td>0</td>\n",
       "      <td>0</td>\n",
       "      <td>0</td>\n",
       "      <td>0</td>\n",
       "      <td>0</td>\n",
       "      <td>0</td>\n",
       "      <td>0</td>\n",
       "      <td>0</td>\n",
       "      <td>0</td>\n",
       "      <td>0</td>\n",
       "    </tr>\n",
       "    <tr>\n",
       "      <th>159</th>\n",
       "      <td>4</td>\n",
       "      <td>9.2</td>\n",
       "      <td>4.0</td>\n",
       "      <td>2.0</td>\n",
       "      <td>2.0</td>\n",
       "      <td>647.0</td>\n",
       "      <td>185.0</td>\n",
       "      <td>1</td>\n",
       "      <td>0</td>\n",
       "      <td>1</td>\n",
       "      <td>...</td>\n",
       "      <td>0</td>\n",
       "      <td>0</td>\n",
       "      <td>0</td>\n",
       "      <td>0</td>\n",
       "      <td>0</td>\n",
       "      <td>0</td>\n",
       "      <td>0</td>\n",
       "      <td>0</td>\n",
       "      <td>0</td>\n",
       "      <td>0</td>\n",
       "    </tr>\n",
       "    <tr>\n",
       "      <th>550</th>\n",
       "      <td>2</td>\n",
       "      <td>1.6</td>\n",
       "      <td>1.0</td>\n",
       "      <td>1.0</td>\n",
       "      <td>1.0</td>\n",
       "      <td>0.0</td>\n",
       "      <td>129.0</td>\n",
       "      <td>0</td>\n",
       "      <td>1</td>\n",
       "      <td>1</td>\n",
       "      <td>...</td>\n",
       "      <td>0</td>\n",
       "      <td>0</td>\n",
       "      <td>0</td>\n",
       "      <td>1</td>\n",
       "      <td>0</td>\n",
       "      <td>0</td>\n",
       "      <td>0</td>\n",
       "      <td>0</td>\n",
       "      <td>0</td>\n",
       "      <td>0</td>\n",
       "    </tr>\n",
       "  </tbody>\n",
       "</table>\n",
       "<p>10 rows × 72 columns</p>\n",
       "</div>"
      ],
      "text/plain": [
       "      Rooms  Distance  Bedroom2  Bathroom  Car  Landsize  BuildingArea  \\\n",
       "115       3      10.5       3.0       1.0  2.0     649.0         143.0   \n",
       "592       2       7.7       1.0       1.0  2.0       0.0          85.0   \n",
       "1599      2       6.5       3.0       1.0  2.0     452.0         143.0   \n",
       "1469      1       3.3       4.0       1.0  2.0       0.0         143.0   \n",
       "1705      2       9.1       3.0       1.0  1.0     976.0          71.0   \n",
       "1448      2       3.3       3.0       1.0  2.0     452.0         143.0   \n",
       "473       4      11.4       3.0       2.0  3.0     932.0         270.0   \n",
       "343       2       5.2       2.0       1.0  1.0     319.0         143.0   \n",
       "159       4       9.2       4.0       2.0  2.0     647.0         185.0   \n",
       "550       2       1.6       1.0       1.0  1.0       0.0         129.0   \n",
       "\n",
       "      Type_h  Type_u  Method_S  ...  YearBuilt_1970.0  YearBuilt_1960.0  \\\n",
       "115        1       0         0  ...                 0                 0   \n",
       "592        0       1         1  ...                 0                 0   \n",
       "1599       0       1         0  ...                 0                 0   \n",
       "1469       0       1         1  ...                 0                 0   \n",
       "1705       0       1         1  ...                 0                 0   \n",
       "1448       0       1         1  ...                 0                 0   \n",
       "473        1       0         1  ...                 1                 0   \n",
       "343        1       0         1  ...                 0                 0   \n",
       "159        1       0         1  ...                 0                 0   \n",
       "550        0       1         1  ...                 0                 0   \n",
       "\n",
       "      YearBuilt_1950.0  YearBuilt_1900.0  YearBuilt_1930.0  YearBuilt_1920.0  \\\n",
       "115                  0                 0                 0                 0   \n",
       "592                  0                 0                 0                 0   \n",
       "1599                 0                 0                 0                 0   \n",
       "1469                 0                 0                 0                 0   \n",
       "1705                 0                 0                 0                 0   \n",
       "1448                 0                 0                 0                 0   \n",
       "473                  0                 0                 0                 0   \n",
       "343                  0                 0                 0                 0   \n",
       "159                  0                 0                 0                 0   \n",
       "550                  0                 1                 0                 0   \n",
       "\n",
       "      YearBuilt_2000.0  YearBuilt_1910.0  YearBuilt_1890.0  YearBuilt_1940.0  \n",
       "115                  0                 0                 0                 0  \n",
       "592                  0                 0                 0                 1  \n",
       "1599                 0                 0                 0                 0  \n",
       "1469                 0                 0                 0                 0  \n",
       "1705                 1                 0                 0                 0  \n",
       "1448                 0                 0                 0                 0  \n",
       "473                  0                 0                 0                 0  \n",
       "343                  0                 0                 0                 0  \n",
       "159                  0                 0                 0                 0  \n",
       "550                  0                 0                 0                 0  \n",
       "\n",
       "[10 rows x 72 columns]"
      ]
     },
     "execution_count": 97,
     "metadata": {},
     "output_type": "execute_result"
    }
   ],
   "source": [
    "hr_test.sample(10)"
   ]
  },
  {
   "cell_type": "code",
   "execution_count": 98,
   "id": "9119a7d9",
   "metadata": {},
   "outputs": [
    {
     "data": {
      "text/html": [
       "<div>\n",
       "<style scoped>\n",
       "    .dataframe tbody tr th:only-of-type {\n",
       "        vertical-align: middle;\n",
       "    }\n",
       "\n",
       "    .dataframe tbody tr th {\n",
       "        vertical-align: top;\n",
       "    }\n",
       "\n",
       "    .dataframe thead th {\n",
       "        text-align: right;\n",
       "    }\n",
       "</style>\n",
       "<table border=\"1\" class=\"dataframe\">\n",
       "  <thead>\n",
       "    <tr style=\"text-align: right;\">\n",
       "      <th></th>\n",
       "      <th>Rooms</th>\n",
       "      <th>Price</th>\n",
       "      <th>Distance</th>\n",
       "      <th>Bedroom2</th>\n",
       "      <th>Bathroom</th>\n",
       "      <th>Car</th>\n",
       "      <th>Landsize</th>\n",
       "      <th>BuildingArea</th>\n",
       "      <th>Type_h</th>\n",
       "      <th>Type_u</th>\n",
       "      <th>...</th>\n",
       "      <th>YearBuilt_1970.0</th>\n",
       "      <th>YearBuilt_1960.0</th>\n",
       "      <th>YearBuilt_1950.0</th>\n",
       "      <th>YearBuilt_1900.0</th>\n",
       "      <th>YearBuilt_1930.0</th>\n",
       "      <th>YearBuilt_1920.0</th>\n",
       "      <th>YearBuilt_2000.0</th>\n",
       "      <th>YearBuilt_1910.0</th>\n",
       "      <th>YearBuilt_1890.0</th>\n",
       "      <th>YearBuilt_1940.0</th>\n",
       "    </tr>\n",
       "  </thead>\n",
       "  <tbody>\n",
       "    <tr>\n",
       "      <th>4573</th>\n",
       "      <td>4</td>\n",
       "      <td>2145000.0</td>\n",
       "      <td>11.2</td>\n",
       "      <td>3.0</td>\n",
       "      <td>2.0</td>\n",
       "      <td>1.0</td>\n",
       "      <td>550.0</td>\n",
       "      <td>197.0</td>\n",
       "      <td>1</td>\n",
       "      <td>0</td>\n",
       "      <td>...</td>\n",
       "      <td>0</td>\n",
       "      <td>0</td>\n",
       "      <td>0</td>\n",
       "      <td>0</td>\n",
       "      <td>0</td>\n",
       "      <td>0</td>\n",
       "      <td>0</td>\n",
       "      <td>1</td>\n",
       "      <td>0</td>\n",
       "      <td>0</td>\n",
       "    </tr>\n",
       "    <tr>\n",
       "      <th>1654</th>\n",
       "      <td>4</td>\n",
       "      <td>1500000.0</td>\n",
       "      <td>11.8</td>\n",
       "      <td>4.0</td>\n",
       "      <td>2.0</td>\n",
       "      <td>2.0</td>\n",
       "      <td>862.0</td>\n",
       "      <td>153.0</td>\n",
       "      <td>1</td>\n",
       "      <td>0</td>\n",
       "      <td>...</td>\n",
       "      <td>1</td>\n",
       "      <td>0</td>\n",
       "      <td>0</td>\n",
       "      <td>0</td>\n",
       "      <td>0</td>\n",
       "      <td>0</td>\n",
       "      <td>0</td>\n",
       "      <td>0</td>\n",
       "      <td>0</td>\n",
       "      <td>0</td>\n",
       "    </tr>\n",
       "    <tr>\n",
       "      <th>5182</th>\n",
       "      <td>4</td>\n",
       "      <td>1210000.0</td>\n",
       "      <td>13.8</td>\n",
       "      <td>3.0</td>\n",
       "      <td>1.0</td>\n",
       "      <td>2.0</td>\n",
       "      <td>452.0</td>\n",
       "      <td>143.0</td>\n",
       "      <td>1</td>\n",
       "      <td>0</td>\n",
       "      <td>...</td>\n",
       "      <td>0</td>\n",
       "      <td>0</td>\n",
       "      <td>0</td>\n",
       "      <td>0</td>\n",
       "      <td>0</td>\n",
       "      <td>0</td>\n",
       "      <td>0</td>\n",
       "      <td>0</td>\n",
       "      <td>0</td>\n",
       "      <td>0</td>\n",
       "    </tr>\n",
       "    <tr>\n",
       "      <th>528</th>\n",
       "      <td>2</td>\n",
       "      <td>455000.0</td>\n",
       "      <td>11.4</td>\n",
       "      <td>2.0</td>\n",
       "      <td>1.0</td>\n",
       "      <td>1.0</td>\n",
       "      <td>0.0</td>\n",
       "      <td>73.0</td>\n",
       "      <td>0</td>\n",
       "      <td>1</td>\n",
       "      <td>...</td>\n",
       "      <td>1</td>\n",
       "      <td>0</td>\n",
       "      <td>0</td>\n",
       "      <td>0</td>\n",
       "      <td>0</td>\n",
       "      <td>0</td>\n",
       "      <td>0</td>\n",
       "      <td>0</td>\n",
       "      <td>0</td>\n",
       "      <td>0</td>\n",
       "    </tr>\n",
       "    <tr>\n",
       "      <th>343</th>\n",
       "      <td>2</td>\n",
       "      <td>390000.0</td>\n",
       "      <td>6.4</td>\n",
       "      <td>2.0</td>\n",
       "      <td>1.0</td>\n",
       "      <td>1.0</td>\n",
       "      <td>0.0</td>\n",
       "      <td>60.0</td>\n",
       "      <td>0</td>\n",
       "      <td>1</td>\n",
       "      <td>...</td>\n",
       "      <td>0</td>\n",
       "      <td>1</td>\n",
       "      <td>0</td>\n",
       "      <td>0</td>\n",
       "      <td>0</td>\n",
       "      <td>0</td>\n",
       "      <td>0</td>\n",
       "      <td>0</td>\n",
       "      <td>0</td>\n",
       "      <td>0</td>\n",
       "    </tr>\n",
       "    <tr>\n",
       "      <th>5694</th>\n",
       "      <td>2</td>\n",
       "      <td>775000.0</td>\n",
       "      <td>4.6</td>\n",
       "      <td>3.0</td>\n",
       "      <td>1.0</td>\n",
       "      <td>2.0</td>\n",
       "      <td>452.0</td>\n",
       "      <td>143.0</td>\n",
       "      <td>0</td>\n",
       "      <td>1</td>\n",
       "      <td>...</td>\n",
       "      <td>0</td>\n",
       "      <td>0</td>\n",
       "      <td>0</td>\n",
       "      <td>0</td>\n",
       "      <td>0</td>\n",
       "      <td>0</td>\n",
       "      <td>0</td>\n",
       "      <td>0</td>\n",
       "      <td>0</td>\n",
       "      <td>0</td>\n",
       "    </tr>\n",
       "    <tr>\n",
       "      <th>2869</th>\n",
       "      <td>4</td>\n",
       "      <td>1400000.0</td>\n",
       "      <td>9.2</td>\n",
       "      <td>4.0</td>\n",
       "      <td>2.0</td>\n",
       "      <td>1.0</td>\n",
       "      <td>283.0</td>\n",
       "      <td>143.0</td>\n",
       "      <td>0</td>\n",
       "      <td>0</td>\n",
       "      <td>...</td>\n",
       "      <td>0</td>\n",
       "      <td>0</td>\n",
       "      <td>0</td>\n",
       "      <td>0</td>\n",
       "      <td>0</td>\n",
       "      <td>0</td>\n",
       "      <td>0</td>\n",
       "      <td>0</td>\n",
       "      <td>0</td>\n",
       "      <td>0</td>\n",
       "    </tr>\n",
       "    <tr>\n",
       "      <th>5994</th>\n",
       "      <td>5</td>\n",
       "      <td>4350000.0</td>\n",
       "      <td>9.7</td>\n",
       "      <td>3.0</td>\n",
       "      <td>1.0</td>\n",
       "      <td>2.0</td>\n",
       "      <td>452.0</td>\n",
       "      <td>143.0</td>\n",
       "      <td>1</td>\n",
       "      <td>0</td>\n",
       "      <td>...</td>\n",
       "      <td>0</td>\n",
       "      <td>0</td>\n",
       "      <td>0</td>\n",
       "      <td>0</td>\n",
       "      <td>0</td>\n",
       "      <td>0</td>\n",
       "      <td>0</td>\n",
       "      <td>0</td>\n",
       "      <td>0</td>\n",
       "      <td>0</td>\n",
       "    </tr>\n",
       "    <tr>\n",
       "      <th>2718</th>\n",
       "      <td>3</td>\n",
       "      <td>1820000.0</td>\n",
       "      <td>2.6</td>\n",
       "      <td>3.0</td>\n",
       "      <td>1.0</td>\n",
       "      <td>2.0</td>\n",
       "      <td>452.0</td>\n",
       "      <td>143.0</td>\n",
       "      <td>1</td>\n",
       "      <td>0</td>\n",
       "      <td>...</td>\n",
       "      <td>0</td>\n",
       "      <td>0</td>\n",
       "      <td>0</td>\n",
       "      <td>0</td>\n",
       "      <td>0</td>\n",
       "      <td>0</td>\n",
       "      <td>0</td>\n",
       "      <td>0</td>\n",
       "      <td>0</td>\n",
       "      <td>0</td>\n",
       "    </tr>\n",
       "    <tr>\n",
       "      <th>3763</th>\n",
       "      <td>2</td>\n",
       "      <td>782000.0</td>\n",
       "      <td>7.0</td>\n",
       "      <td>2.0</td>\n",
       "      <td>1.0</td>\n",
       "      <td>1.0</td>\n",
       "      <td>1555.0</td>\n",
       "      <td>92.0</td>\n",
       "      <td>0</td>\n",
       "      <td>1</td>\n",
       "      <td>...</td>\n",
       "      <td>0</td>\n",
       "      <td>0</td>\n",
       "      <td>0</td>\n",
       "      <td>0</td>\n",
       "      <td>0</td>\n",
       "      <td>0</td>\n",
       "      <td>0</td>\n",
       "      <td>0</td>\n",
       "      <td>0</td>\n",
       "      <td>0</td>\n",
       "    </tr>\n",
       "  </tbody>\n",
       "</table>\n",
       "<p>10 rows × 73 columns</p>\n",
       "</div>"
      ],
      "text/plain": [
       "      Rooms      Price  Distance  Bedroom2  Bathroom  Car  Landsize  \\\n",
       "4573      4  2145000.0      11.2       3.0       2.0  1.0     550.0   \n",
       "1654      4  1500000.0      11.8       4.0       2.0  2.0     862.0   \n",
       "5182      4  1210000.0      13.8       3.0       1.0  2.0     452.0   \n",
       "528       2   455000.0      11.4       2.0       1.0  1.0       0.0   \n",
       "343       2   390000.0       6.4       2.0       1.0  1.0       0.0   \n",
       "5694      2   775000.0       4.6       3.0       1.0  2.0     452.0   \n",
       "2869      4  1400000.0       9.2       4.0       2.0  1.0     283.0   \n",
       "5994      5  4350000.0       9.7       3.0       1.0  2.0     452.0   \n",
       "2718      3  1820000.0       2.6       3.0       1.0  2.0     452.0   \n",
       "3763      2   782000.0       7.0       2.0       1.0  1.0    1555.0   \n",
       "\n",
       "      BuildingArea  Type_h  Type_u  ...  YearBuilt_1970.0  YearBuilt_1960.0  \\\n",
       "4573         197.0       1       0  ...                 0                 0   \n",
       "1654         153.0       1       0  ...                 1                 0   \n",
       "5182         143.0       1       0  ...                 0                 0   \n",
       "528           73.0       0       1  ...                 1                 0   \n",
       "343           60.0       0       1  ...                 0                 1   \n",
       "5694         143.0       0       1  ...                 0                 0   \n",
       "2869         143.0       0       0  ...                 0                 0   \n",
       "5994         143.0       1       0  ...                 0                 0   \n",
       "2718         143.0       1       0  ...                 0                 0   \n",
       "3763          92.0       0       1  ...                 0                 0   \n",
       "\n",
       "      YearBuilt_1950.0  YearBuilt_1900.0  YearBuilt_1930.0  YearBuilt_1920.0  \\\n",
       "4573                 0                 0                 0                 0   \n",
       "1654                 0                 0                 0                 0   \n",
       "5182                 0                 0                 0                 0   \n",
       "528                  0                 0                 0                 0   \n",
       "343                  0                 0                 0                 0   \n",
       "5694                 0                 0                 0                 0   \n",
       "2869                 0                 0                 0                 0   \n",
       "5994                 0                 0                 0                 0   \n",
       "2718                 0                 0                 0                 0   \n",
       "3763                 0                 0                 0                 0   \n",
       "\n",
       "      YearBuilt_2000.0  YearBuilt_1910.0  YearBuilt_1890.0  YearBuilt_1940.0  \n",
       "4573                 0                 1                 0                 0  \n",
       "1654                 0                 0                 0                 0  \n",
       "5182                 0                 0                 0                 0  \n",
       "528                  0                 0                 0                 0  \n",
       "343                  0                 0                 0                 0  \n",
       "5694                 0                 0                 0                 0  \n",
       "2869                 0                 0                 0                 0  \n",
       "5994                 0                 0                 0                 0  \n",
       "2718                 0                 0                 0                 0  \n",
       "3763                 0                 0                 0                 0  \n",
       "\n",
       "[10 rows x 73 columns]"
      ]
     },
     "execution_count": 98,
     "metadata": {},
     "output_type": "execute_result"
    }
   ],
   "source": [
    "hr_train.sample(10)"
   ]
  },
  {
   "cell_type": "code",
   "execution_count": 99,
   "id": "e610deac",
   "metadata": {},
   "outputs": [],
   "source": [
    "from sklearn.model_selection import train_test_split\n",
    "t1,t2 = train_test_split(hr_train,test_size = 0.2,random_state = 123)"
   ]
  },
  {
   "cell_type": "code",
   "execution_count": 100,
   "id": "b4f7cb63",
   "metadata": {},
   "outputs": [
    {
     "data": {
      "text/plain": [
       "(6028, 73)"
      ]
     },
     "execution_count": 100,
     "metadata": {},
     "output_type": "execute_result"
    }
   ],
   "source": [
    "t1.shape"
   ]
  },
  {
   "cell_type": "code",
   "execution_count": 101,
   "id": "94b990d4",
   "metadata": {},
   "outputs": [
    {
     "data": {
      "text/plain": [
       "(1508, 73)"
      ]
     },
     "execution_count": 101,
     "metadata": {},
     "output_type": "execute_result"
    }
   ],
   "source": [
    "t2.shape"
   ]
  },
  {
   "cell_type": "code",
   "execution_count": 155,
   "id": "1397a5c3",
   "metadata": {},
   "outputs": [],
   "source": [
    "x_train = t1.drop(['Price'],axis=1)\n",
    "y_train = t1['Price']\n",
    "x_test = t2.drop(['Price'],axis = 1)\n",
    "y_test = t2['Price']"
   ]
  },
  {
   "cell_type": "code",
   "execution_count": 103,
   "id": "77cb30ac",
   "metadata": {},
   "outputs": [
    {
     "data": {
      "text/plain": [
       "6910     621000.0\n",
       "2752    1955000.0\n",
       "5895     380000.0\n",
       "233      420000.0\n",
       "6932    2000000.0\n",
       "Name: Price, dtype: float64"
      ]
     },
     "execution_count": 103,
     "metadata": {},
     "output_type": "execute_result"
    }
   ],
   "source": [
    "y_train.sample(5)"
   ]
  },
  {
   "cell_type": "code",
   "execution_count": 104,
   "id": "45ee8353",
   "metadata": {},
   "outputs": [
    {
     "data": {
      "text/plain": [
       "LinearRegression()"
      ]
     },
     "execution_count": 104,
     "metadata": {},
     "output_type": "execute_result"
    }
   ],
   "source": [
    "from sklearn.linear_model import LinearRegression\n",
    "lr = LinearRegression()\n",
    "lr.fit(x_train,y_train)"
   ]
  },
  {
   "cell_type": "code",
   "execution_count": 105,
   "id": "7dfc7b1f",
   "metadata": {},
   "outputs": [
    {
     "data": {
      "text/plain": [
       "362416.9386699705"
      ]
     },
     "execution_count": 105,
     "metadata": {},
     "output_type": "execute_result"
    }
   ],
   "source": [
    "lr.intercept_"
   ]
  },
  {
   "cell_type": "code",
   "execution_count": 106,
   "id": "de23cd70",
   "metadata": {},
   "outputs": [],
   "source": [
    "predicted_values = lr.predict(x_test)"
   ]
  },
  {
   "cell_type": "code",
   "execution_count": 107,
   "id": "868988f0",
   "metadata": {},
   "outputs": [
    {
     "data": {
      "text/plain": [
       "260951.84925802491"
      ]
     },
     "execution_count": 107,
     "metadata": {},
     "output_type": "execute_result"
    }
   ],
   "source": [
    "from sklearn.metrics import mean_absolute_error\n",
    "mean_absolute_error(predicted_values,y_test)"
   ]
  },
  {
   "cell_type": "markdown",
   "id": "d59b7957",
   "metadata": {},
   "source": [
    "# now will make prediction on real data set"
   ]
  },
  {
   "cell_type": "code",
   "execution_count": 164,
   "id": "b533a009",
   "metadata": {},
   "outputs": [],
   "source": [
    "x_train = hr_train.drop(['Price'],axis = 1)\n",
    "y_train = hr_train['Price']"
   ]
  },
  {
   "cell_type": "code",
   "execution_count": 109,
   "id": "ab3f99ce",
   "metadata": {},
   "outputs": [
    {
     "data": {
      "text/plain": [
       "LinearRegression()"
      ]
     },
     "execution_count": 109,
     "metadata": {},
     "output_type": "execute_result"
    }
   ],
   "source": [
    "lr.fit(x_train,y_train)"
   ]
  },
  {
   "cell_type": "code",
   "execution_count": 110,
   "id": "496abc67",
   "metadata": {},
   "outputs": [],
   "source": [
    "final_predicted_values = lr.predict(hr_test)"
   ]
  },
  {
   "cell_type": "code",
   "execution_count": 111,
   "id": "a5a54475",
   "metadata": {},
   "outputs": [
    {
     "data": {
      "text/plain": [
       "array([ 549159.57031578,  868292.05513166,  601373.21713394, ...,\n",
       "       1261050.83376991,  264556.25667715, 1454560.31299627])"
      ]
     },
     "execution_count": 111,
     "metadata": {},
     "output_type": "execute_result"
    }
   ],
   "source": [
    "final_predicted_values"
   ]
  },
  {
   "cell_type": "code",
   "execution_count": 112,
   "id": "81c881a7",
   "metadata": {},
   "outputs": [],
   "source": [
    "Project_price = pd.DataFrame({'Predicted_price' : final_predicted_values})"
   ]
  },
  {
   "cell_type": "code",
   "execution_count": 113,
   "id": "cca64897",
   "metadata": {},
   "outputs": [
    {
     "data": {
      "text/html": [
       "<div>\n",
       "<style scoped>\n",
       "    .dataframe tbody tr th:only-of-type {\n",
       "        vertical-align: middle;\n",
       "    }\n",
       "\n",
       "    .dataframe tbody tr th {\n",
       "        vertical-align: top;\n",
       "    }\n",
       "\n",
       "    .dataframe thead th {\n",
       "        text-align: right;\n",
       "    }\n",
       "</style>\n",
       "<table border=\"1\" class=\"dataframe\">\n",
       "  <thead>\n",
       "    <tr style=\"text-align: right;\">\n",
       "      <th></th>\n",
       "      <th>Predicted_price</th>\n",
       "    </tr>\n",
       "  </thead>\n",
       "  <tbody>\n",
       "    <tr>\n",
       "      <th>0</th>\n",
       "      <td>5.491596e+05</td>\n",
       "    </tr>\n",
       "    <tr>\n",
       "      <th>1</th>\n",
       "      <td>8.682921e+05</td>\n",
       "    </tr>\n",
       "    <tr>\n",
       "      <th>2</th>\n",
       "      <td>6.013732e+05</td>\n",
       "    </tr>\n",
       "    <tr>\n",
       "      <th>3</th>\n",
       "      <td>1.797009e+06</td>\n",
       "    </tr>\n",
       "    <tr>\n",
       "      <th>4</th>\n",
       "      <td>1.528227e+06</td>\n",
       "    </tr>\n",
       "    <tr>\n",
       "      <th>...</th>\n",
       "      <td>...</td>\n",
       "    </tr>\n",
       "    <tr>\n",
       "      <th>1880</th>\n",
       "      <td>7.444397e+05</td>\n",
       "    </tr>\n",
       "    <tr>\n",
       "      <th>1881</th>\n",
       "      <td>8.982182e+05</td>\n",
       "    </tr>\n",
       "    <tr>\n",
       "      <th>1882</th>\n",
       "      <td>1.261051e+06</td>\n",
       "    </tr>\n",
       "    <tr>\n",
       "      <th>1883</th>\n",
       "      <td>2.645563e+05</td>\n",
       "    </tr>\n",
       "    <tr>\n",
       "      <th>1884</th>\n",
       "      <td>1.454560e+06</td>\n",
       "    </tr>\n",
       "  </tbody>\n",
       "</table>\n",
       "<p>1885 rows × 1 columns</p>\n",
       "</div>"
      ],
      "text/plain": [
       "      Predicted_price\n",
       "0        5.491596e+05\n",
       "1        8.682921e+05\n",
       "2        6.013732e+05\n",
       "3        1.797009e+06\n",
       "4        1.528227e+06\n",
       "...               ...\n",
       "1880     7.444397e+05\n",
       "1881     8.982182e+05\n",
       "1882     1.261051e+06\n",
       "1883     2.645563e+05\n",
       "1884     1.454560e+06\n",
       "\n",
       "[1885 rows x 1 columns]"
      ]
     },
     "execution_count": 113,
     "metadata": {},
     "output_type": "execute_result"
    }
   ],
   "source": [
    "Project_price"
   ]
  },
  {
   "cell_type": "code",
   "execution_count": 117,
   "id": "2f30ea9a",
   "metadata": {},
   "outputs": [],
   "source": [
    "#now using decision tree"
   ]
  },
  {
   "cell_type": "code",
   "execution_count": 122,
   "id": "6a940426",
   "metadata": {},
   "outputs": [],
   "source": [
    "from sklearn.tree import DecisionTreeRegressor"
   ]
  },
  {
   "cell_type": "code",
   "execution_count": 119,
   "id": "90bc77cc",
   "metadata": {},
   "outputs": [],
   "source": [
    "from sklearn.model_selection import RandomizedSearchCV"
   ]
  },
  {
   "cell_type": "code",
   "execution_count": 123,
   "id": "e624e809",
   "metadata": {},
   "outputs": [],
   "source": [
    "clf = DecisionTreeRegressor()"
   ]
  },
  {
   "cell_type": "code",
   "execution_count": 124,
   "id": "bb610d53",
   "metadata": {},
   "outputs": [],
   "source": [
    "params = {'max_depth' : [None,5,10,15,20,30,50,70],\n",
    "          'min_samples_leaf' : [1,2,5,10,15,20],\n",
    "          'min_samples_split' : [2,5,10,15,20]}"
   ]
  },
  {
   "cell_type": "code",
   "execution_count": 126,
   "id": "16004f3e",
   "metadata": {},
   "outputs": [],
   "source": [
    "random_search = RandomizedSearchCV(clf, cv = 10, param_distributions = params, scoring = 'neg_mean_absolute_error', n_iter = 10, n_jobs = -1, verbose = False)"
   ]
  },
  {
   "cell_type": "code",
   "execution_count": 140,
   "id": "cb14dcf4",
   "metadata": {},
   "outputs": [
    {
     "data": {
      "text/plain": [
       "RandomizedSearchCV(cv=10, estimator=DecisionTreeRegressor(), n_jobs=-1,\n",
       "                   param_distributions={'max_depth': [None, 5, 10, 15, 20, 30,\n",
       "                                                      50, 70],\n",
       "                                        'min_samples_leaf': [1, 2, 5, 10, 15,\n",
       "                                                             20],\n",
       "                                        'min_samples_split': [2, 5, 10, 15,\n",
       "                                                              20]},\n",
       "                   scoring='neg_mean_absolute_error', verbose=False)"
      ]
     },
     "execution_count": 140,
     "metadata": {},
     "output_type": "execute_result"
    }
   ],
   "source": [
    "random_search.fit(x_train, y_train)"
   ]
  },
  {
   "cell_type": "code",
   "execution_count": 141,
   "id": "6b09c27b",
   "metadata": {},
   "outputs": [
    {
     "data": {
      "text/plain": [
       "DecisionTreeRegressor(max_depth=50, min_samples_leaf=5, min_samples_split=20)"
      ]
     },
     "execution_count": 141,
     "metadata": {},
     "output_type": "execute_result"
    }
   ],
   "source": [
    "random_search.best_estimator_"
   ]
  },
  {
   "cell_type": "code",
   "execution_count": 142,
   "id": "6e883ade",
   "metadata": {},
   "outputs": [],
   "source": [
    "dtree = random_search.best_estimator_"
   ]
  },
  {
   "cell_type": "code",
   "execution_count": 143,
   "id": "26a9562f",
   "metadata": {},
   "outputs": [
    {
     "data": {
      "text/plain": [
       "DecisionTreeRegressor(max_depth=50, min_samples_leaf=5, min_samples_split=20)"
      ]
     },
     "execution_count": 143,
     "metadata": {},
     "output_type": "execute_result"
    }
   ],
   "source": [
    "dtree.fit(x_train, y_train)"
   ]
  },
  {
   "cell_type": "code",
   "execution_count": 144,
   "id": "da27c029",
   "metadata": {},
   "outputs": [],
   "source": [
    "predicted = dtree.predict(x_test)"
   ]
  },
  {
   "cell_type": "code",
   "execution_count": 145,
   "id": "69256663",
   "metadata": {},
   "outputs": [
    {
     "data": {
      "text/plain": [
       "243186.86523420853"
      ]
     },
     "execution_count": 145,
     "metadata": {},
     "output_type": "execute_result"
    }
   ],
   "source": [
    "mean_absolute_error(predicted, y_test)"
   ]
  },
  {
   "cell_type": "code",
   "execution_count": 146,
   "id": "52d1bbff",
   "metadata": {},
   "outputs": [],
   "source": [
    "x_train = hr_train.drop(['Price'],axis = 1)\n",
    "y_train = hr_train['Price']"
   ]
  },
  {
   "cell_type": "code",
   "execution_count": 147,
   "id": "70f9d777",
   "metadata": {},
   "outputs": [
    {
     "data": {
      "text/plain": [
       "DecisionTreeRegressor(max_depth=50, min_samples_leaf=5, min_samples_split=20)"
      ]
     },
     "execution_count": 147,
     "metadata": {},
     "output_type": "execute_result"
    }
   ],
   "source": [
    "dtree.fit(x_train, y_train)"
   ]
  },
  {
   "cell_type": "code",
   "execution_count": 148,
   "id": "9305f248",
   "metadata": {},
   "outputs": [],
   "source": [
    "final_prediction = dtree.predict(hr_test)"
   ]
  },
  {
   "cell_type": "code",
   "execution_count": 149,
   "id": "8e695579",
   "metadata": {},
   "outputs": [
    {
     "data": {
      "text/plain": [
       "array([ 396533.33333333,  805985.29411765,  475833.33333333, ...,\n",
       "       1001961.53846154,  415461.53846154, 1451366.66666667])"
      ]
     },
     "execution_count": 149,
     "metadata": {},
     "output_type": "execute_result"
    }
   ],
   "source": [
    "final_prediction"
   ]
  },
  {
   "cell_type": "code",
   "execution_count": 150,
   "id": "b4706b41",
   "metadata": {},
   "outputs": [],
   "source": [
    "# random forest implementation"
   ]
  },
  {
   "cell_type": "code",
   "execution_count": 151,
   "id": "10c9c649",
   "metadata": {},
   "outputs": [],
   "source": [
    "from sklearn.ensemble import RandomForestRegressor"
   ]
  },
  {
   "cell_type": "code",
   "execution_count": 152,
   "id": "7ff71f3d",
   "metadata": {},
   "outputs": [],
   "source": [
    "model = RandomForestRegressor()"
   ]
  },
  {
   "cell_type": "code",
   "execution_count": 153,
   "id": "5bd023eb",
   "metadata": {},
   "outputs": [],
   "source": [
    "params = {'n_estimators' : [100,200,300,500,700,1000],\n",
    "         'max_features' : [5,10,15,20,30,35],\n",
    "         'bootstrap' : [True, False],\n",
    "         'max_depth' : [None, 5, 10,20,30,50,70],\n",
    "         'min_samples_leaf' : [1,2,5,10,15,20],\n",
    "         'min_samples_split' : [2,5,10,15,20]}"
   ]
  },
  {
   "cell_type": "code",
   "execution_count": 154,
   "id": "7e1af33f",
   "metadata": {},
   "outputs": [],
   "source": [
    "random_search  = RandomizedSearchCV(model, param_distributions = params, cv = 10, scoring = \"neg_mean_absolute_error\",n_iter = 10, n_jobs = -1, verbose = False)"
   ]
  },
  {
   "cell_type": "code",
   "execution_count": 157,
   "id": "4fb7dbd6",
   "metadata": {},
   "outputs": [
    {
     "data": {
      "text/plain": [
       "RandomizedSearchCV(cv=10, estimator=RandomForestRegressor(), n_jobs=-1,\n",
       "                   param_distributions={'bootstrap': [True, False],\n",
       "                                        'max_depth': [None, 5, 10, 20, 30, 50,\n",
       "                                                      70],\n",
       "                                        'max_features': [5, 10, 15, 20, 30, 35],\n",
       "                                        'min_samples_leaf': [1, 2, 5, 10, 15,\n",
       "                                                             20],\n",
       "                                        'min_samples_split': [2, 5, 10, 15, 20],\n",
       "                                        'n_estimators': [100, 200, 300, 500,\n",
       "                                                         700, 1000]},\n",
       "                   scoring='neg_mean_absolute_error', verbose=False)"
      ]
     },
     "execution_count": 157,
     "metadata": {},
     "output_type": "execute_result"
    }
   ],
   "source": [
    "random_search.fit(x_train, y_train)"
   ]
  },
  {
   "cell_type": "code",
   "execution_count": 159,
   "id": "f2d090d5",
   "metadata": {},
   "outputs": [
    {
     "data": {
      "text/plain": [
       "RandomForestRegressor(bootstrap=False, max_features=15, min_samples_split=10,\n",
       "                      n_estimators=200)"
      ]
     },
     "execution_count": 159,
     "metadata": {},
     "output_type": "execute_result"
    }
   ],
   "source": [
    "random_search.best_estimator_"
   ]
  },
  {
   "cell_type": "code",
   "execution_count": 160,
   "id": "35e006ca",
   "metadata": {},
   "outputs": [],
   "source": [
    "rfree = random_search.best_estimator_"
   ]
  },
  {
   "cell_type": "code",
   "execution_count": 161,
   "id": "342906d2",
   "metadata": {},
   "outputs": [
    {
     "data": {
      "text/plain": [
       "RandomForestRegressor(bootstrap=False, max_features=15, min_samples_split=10,\n",
       "                      n_estimators=200)"
      ]
     },
     "execution_count": 161,
     "metadata": {},
     "output_type": "execute_result"
    }
   ],
   "source": [
    "rfree.fit(x_train, y_train)"
   ]
  },
  {
   "cell_type": "code",
   "execution_count": 162,
   "id": "a15edd0f",
   "metadata": {},
   "outputs": [],
   "source": [
    "predicted = rfree.predict(x_test)"
   ]
  },
  {
   "cell_type": "code",
   "execution_count": 163,
   "id": "c520c0c3",
   "metadata": {},
   "outputs": [
    {
     "data": {
      "text/plain": [
       "203199.4282914035"
      ]
     },
     "execution_count": 163,
     "metadata": {},
     "output_type": "execute_result"
    }
   ],
   "source": [
    "mean_absolute_error(predicted, y_test)"
   ]
  },
  {
   "cell_type": "code",
   "execution_count": 165,
   "id": "f78f2ea0",
   "metadata": {},
   "outputs": [
    {
     "data": {
      "text/plain": [
       "RandomForestRegressor(bootstrap=False, max_features=15, min_samples_split=10,\n",
       "                      n_estimators=200)"
      ]
     },
     "execution_count": 165,
     "metadata": {},
     "output_type": "execute_result"
    }
   ],
   "source": [
    "rfree.fit(x_train, y_train)"
   ]
  },
  {
   "cell_type": "code",
   "execution_count": 166,
   "id": "86699ab4",
   "metadata": {},
   "outputs": [],
   "source": [
    "final_prediction = rfree.predict(hr_test)"
   ]
  },
  {
   "cell_type": "code",
   "execution_count": 167,
   "id": "1a89a006",
   "metadata": {},
   "outputs": [
    {
     "data": {
      "text/plain": [
       "array([ 508408.03472222, 1028150.05357143,  415238.11651786, ...,\n",
       "       1036331.87698413,  423302.28914683, 1644573.45992063])"
      ]
     },
     "execution_count": 167,
     "metadata": {},
     "output_type": "execute_result"
    }
   ],
   "source": [
    "final_prediction"
   ]
  },
  {
   "cell_type": "code",
   "execution_count": null,
   "id": "3abe7386",
   "metadata": {},
   "outputs": [],
   "source": []
  }
 ],
 "metadata": {
  "kernelspec": {
   "display_name": "Python 3",
   "language": "python",
   "name": "python3"
  },
  "language_info": {
   "codemirror_mode": {
    "name": "ipython",
    "version": 3
   },
   "file_extension": ".py",
   "mimetype": "text/x-python",
   "name": "python",
   "nbconvert_exporter": "python",
   "pygments_lexer": "ipython3",
   "version": "3.8.8"
  }
 },
 "nbformat": 4,
 "nbformat_minor": 5
}
